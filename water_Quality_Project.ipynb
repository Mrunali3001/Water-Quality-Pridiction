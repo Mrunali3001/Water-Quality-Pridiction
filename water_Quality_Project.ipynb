{
 "cells": [
  {
   "cell_type": "markdown",
   "id": "1bfdd4c7-d1e2-4c20-9764-cb91e730fddd",
   "metadata": {},
   "source": [
    "*****Context*****"
   ]
  },
  {
   "cell_type": "markdown",
   "id": "89fb5c43-6fe6-434d-bc4a-da7586163965",
   "metadata": {},
   "source": [
    "Drinking quality water is essential for health and well-being.Water performs several vital functions in the human body, \n",
    "and consuming poor quality water can lead to serious health problems. Considering this, a classification model using a decision tree was built to predict whether water with certain presented parameters is safe or not for consumption.\n",
    "The aim of this project is to predict the safety of drinking water based on various chemical properties."
   ]
  },
  {
   "cell_type": "markdown",
   "id": "688ed858-7f10-42b4-94b4-a229ad060a90",
   "metadata": {},
   "source": [
    "*****Importing Libraries*****"
   ]
  },
  {
   "cell_type": "code",
   "execution_count": 4,
   "id": "12d13d6c-93a5-48dc-9895-2f04e224223d",
   "metadata": {},
   "outputs": [],
   "source": [
    "import numpy as np \n",
    "import pandas as pd \n",
    "\n",
    "import matplotlib.pyplot as plt    \n",
    "import seaborn as sns\n",
    "\n",
    "from sklearn.model_selection import train_test_split\n",
    "from sklearn.linear_model import LogisticRegression\n",
    "from sklearn.tree import DecisionTreeClassifier,plot_tree\n",
    "\n",
    "from sklearn.metrics import confusion_matrix\n",
    "from sklearn.metrics import ConfusionMatrixDisplay\n",
    "from sklearn.metrics import accuracy_score\n",
    "from sklearn.metrics import classification_report\n",
    "import warnings\n",
    "warnings.filterwarnings('ignore')"
   ]
  },
  {
   "cell_type": "markdown",
   "id": "e245fd28-4acd-4fd6-83ed-22ab37524e8e",
   "metadata": {},
   "source": [
    "***Data Extraction***"
   ]
  },
  {
   "cell_type": "code",
   "execution_count": 6,
   "id": "cbe428f7-63c5-457f-8f7b-3ed34dc24e95",
   "metadata": {},
   "outputs": [
    {
     "data": {
      "text/html": [
       "<div>\n",
       "<style scoped>\n",
       "    .dataframe tbody tr th:only-of-type {\n",
       "        vertical-align: middle;\n",
       "    }\n",
       "\n",
       "    .dataframe tbody tr th {\n",
       "        vertical-align: top;\n",
       "    }\n",
       "\n",
       "    .dataframe thead th {\n",
       "        text-align: right;\n",
       "    }\n",
       "</style>\n",
       "<table border=\"1\" class=\"dataframe\">\n",
       "  <thead>\n",
       "    <tr style=\"text-align: right;\">\n",
       "      <th></th>\n",
       "      <th>aluminium</th>\n",
       "      <th>ammonia</th>\n",
       "      <th>arsenic</th>\n",
       "      <th>barium</th>\n",
       "      <th>cadmium</th>\n",
       "      <th>chloramine</th>\n",
       "      <th>chromium</th>\n",
       "      <th>copper</th>\n",
       "      <th>flouride</th>\n",
       "      <th>bacteria</th>\n",
       "      <th>...</th>\n",
       "      <th>lead</th>\n",
       "      <th>nitrates</th>\n",
       "      <th>nitrites</th>\n",
       "      <th>mercury</th>\n",
       "      <th>perchlorate</th>\n",
       "      <th>radium</th>\n",
       "      <th>selenium</th>\n",
       "      <th>silver</th>\n",
       "      <th>uranium</th>\n",
       "      <th>is_safe</th>\n",
       "    </tr>\n",
       "  </thead>\n",
       "  <tbody>\n",
       "    <tr>\n",
       "      <th>0</th>\n",
       "      <td>1.65</td>\n",
       "      <td>9.08</td>\n",
       "      <td>0.04</td>\n",
       "      <td>2.85</td>\n",
       "      <td>0.007</td>\n",
       "      <td>0.35</td>\n",
       "      <td>0.83</td>\n",
       "      <td>0.17</td>\n",
       "      <td>0.05</td>\n",
       "      <td>0.20</td>\n",
       "      <td>...</td>\n",
       "      <td>0.054</td>\n",
       "      <td>16.08</td>\n",
       "      <td>1.13</td>\n",
       "      <td>0.007</td>\n",
       "      <td>37.75</td>\n",
       "      <td>6.78</td>\n",
       "      <td>0.08</td>\n",
       "      <td>0.34</td>\n",
       "      <td>0.02</td>\n",
       "      <td>1</td>\n",
       "    </tr>\n",
       "    <tr>\n",
       "      <th>1</th>\n",
       "      <td>2.32</td>\n",
       "      <td>21.16</td>\n",
       "      <td>0.01</td>\n",
       "      <td>3.31</td>\n",
       "      <td>0.002</td>\n",
       "      <td>5.28</td>\n",
       "      <td>0.68</td>\n",
       "      <td>0.66</td>\n",
       "      <td>0.90</td>\n",
       "      <td>0.65</td>\n",
       "      <td>...</td>\n",
       "      <td>0.100</td>\n",
       "      <td>2.01</td>\n",
       "      <td>1.93</td>\n",
       "      <td>0.003</td>\n",
       "      <td>32.26</td>\n",
       "      <td>3.21</td>\n",
       "      <td>0.08</td>\n",
       "      <td>0.27</td>\n",
       "      <td>0.05</td>\n",
       "      <td>1</td>\n",
       "    </tr>\n",
       "    <tr>\n",
       "      <th>2</th>\n",
       "      <td>1.01</td>\n",
       "      <td>14.02</td>\n",
       "      <td>0.04</td>\n",
       "      <td>0.58</td>\n",
       "      <td>0.008</td>\n",
       "      <td>4.24</td>\n",
       "      <td>0.53</td>\n",
       "      <td>0.02</td>\n",
       "      <td>0.99</td>\n",
       "      <td>0.05</td>\n",
       "      <td>...</td>\n",
       "      <td>0.078</td>\n",
       "      <td>14.16</td>\n",
       "      <td>1.11</td>\n",
       "      <td>0.006</td>\n",
       "      <td>50.28</td>\n",
       "      <td>7.07</td>\n",
       "      <td>0.07</td>\n",
       "      <td>0.44</td>\n",
       "      <td>0.01</td>\n",
       "      <td>0</td>\n",
       "    </tr>\n",
       "    <tr>\n",
       "      <th>3</th>\n",
       "      <td>1.36</td>\n",
       "      <td>11.33</td>\n",
       "      <td>0.04</td>\n",
       "      <td>2.96</td>\n",
       "      <td>0.001</td>\n",
       "      <td>7.23</td>\n",
       "      <td>0.03</td>\n",
       "      <td>1.66</td>\n",
       "      <td>1.08</td>\n",
       "      <td>0.71</td>\n",
       "      <td>...</td>\n",
       "      <td>0.016</td>\n",
       "      <td>1.41</td>\n",
       "      <td>1.29</td>\n",
       "      <td>0.004</td>\n",
       "      <td>9.12</td>\n",
       "      <td>1.72</td>\n",
       "      <td>0.02</td>\n",
       "      <td>0.45</td>\n",
       "      <td>0.05</td>\n",
       "      <td>1</td>\n",
       "    </tr>\n",
       "    <tr>\n",
       "      <th>4</th>\n",
       "      <td>0.92</td>\n",
       "      <td>24.33</td>\n",
       "      <td>0.03</td>\n",
       "      <td>0.20</td>\n",
       "      <td>0.006</td>\n",
       "      <td>2.67</td>\n",
       "      <td>0.69</td>\n",
       "      <td>0.57</td>\n",
       "      <td>0.61</td>\n",
       "      <td>0.13</td>\n",
       "      <td>...</td>\n",
       "      <td>0.117</td>\n",
       "      <td>6.74</td>\n",
       "      <td>1.11</td>\n",
       "      <td>0.003</td>\n",
       "      <td>16.90</td>\n",
       "      <td>2.41</td>\n",
       "      <td>0.02</td>\n",
       "      <td>0.06</td>\n",
       "      <td>0.02</td>\n",
       "      <td>1</td>\n",
       "    </tr>\n",
       "    <tr>\n",
       "      <th>...</th>\n",
       "      <td>...</td>\n",
       "      <td>...</td>\n",
       "      <td>...</td>\n",
       "      <td>...</td>\n",
       "      <td>...</td>\n",
       "      <td>...</td>\n",
       "      <td>...</td>\n",
       "      <td>...</td>\n",
       "      <td>...</td>\n",
       "      <td>...</td>\n",
       "      <td>...</td>\n",
       "      <td>...</td>\n",
       "      <td>...</td>\n",
       "      <td>...</td>\n",
       "      <td>...</td>\n",
       "      <td>...</td>\n",
       "      <td>...</td>\n",
       "      <td>...</td>\n",
       "      <td>...</td>\n",
       "      <td>...</td>\n",
       "      <td>...</td>\n",
       "    </tr>\n",
       "    <tr>\n",
       "      <th>7994</th>\n",
       "      <td>0.05</td>\n",
       "      <td>7.78</td>\n",
       "      <td>0.00</td>\n",
       "      <td>1.95</td>\n",
       "      <td>0.040</td>\n",
       "      <td>0.10</td>\n",
       "      <td>0.03</td>\n",
       "      <td>0.03</td>\n",
       "      <td>1.37</td>\n",
       "      <td>0.00</td>\n",
       "      <td>...</td>\n",
       "      <td>0.197</td>\n",
       "      <td>14.29</td>\n",
       "      <td>1.00</td>\n",
       "      <td>0.005</td>\n",
       "      <td>3.57</td>\n",
       "      <td>2.13</td>\n",
       "      <td>0.09</td>\n",
       "      <td>0.06</td>\n",
       "      <td>0.03</td>\n",
       "      <td>1</td>\n",
       "    </tr>\n",
       "    <tr>\n",
       "      <th>7995</th>\n",
       "      <td>0.05</td>\n",
       "      <td>24.22</td>\n",
       "      <td>0.02</td>\n",
       "      <td>0.59</td>\n",
       "      <td>0.010</td>\n",
       "      <td>0.45</td>\n",
       "      <td>0.02</td>\n",
       "      <td>0.02</td>\n",
       "      <td>1.48</td>\n",
       "      <td>0.00</td>\n",
       "      <td>...</td>\n",
       "      <td>0.031</td>\n",
       "      <td>10.27</td>\n",
       "      <td>1.00</td>\n",
       "      <td>0.001</td>\n",
       "      <td>1.48</td>\n",
       "      <td>1.11</td>\n",
       "      <td>0.09</td>\n",
       "      <td>0.10</td>\n",
       "      <td>0.08</td>\n",
       "      <td>1</td>\n",
       "    </tr>\n",
       "    <tr>\n",
       "      <th>7996</th>\n",
       "      <td>0.09</td>\n",
       "      <td>6.85</td>\n",
       "      <td>0.00</td>\n",
       "      <td>0.61</td>\n",
       "      <td>0.030</td>\n",
       "      <td>0.05</td>\n",
       "      <td>0.05</td>\n",
       "      <td>0.02</td>\n",
       "      <td>0.91</td>\n",
       "      <td>0.00</td>\n",
       "      <td>...</td>\n",
       "      <td>0.182</td>\n",
       "      <td>15.92</td>\n",
       "      <td>1.00</td>\n",
       "      <td>0.000</td>\n",
       "      <td>1.35</td>\n",
       "      <td>4.84</td>\n",
       "      <td>0.00</td>\n",
       "      <td>0.04</td>\n",
       "      <td>0.05</td>\n",
       "      <td>1</td>\n",
       "    </tr>\n",
       "    <tr>\n",
       "      <th>7997</th>\n",
       "      <td>0.01</td>\n",
       "      <td>10</td>\n",
       "      <td>0.01</td>\n",
       "      <td>2.00</td>\n",
       "      <td>0.000</td>\n",
       "      <td>2.00</td>\n",
       "      <td>0.00</td>\n",
       "      <td>0.09</td>\n",
       "      <td>0.00</td>\n",
       "      <td>0.00</td>\n",
       "      <td>...</td>\n",
       "      <td>0.000</td>\n",
       "      <td>0.00</td>\n",
       "      <td>0.00</td>\n",
       "      <td>0.000</td>\n",
       "      <td>0.00</td>\n",
       "      <td>0.00</td>\n",
       "      <td>0.00</td>\n",
       "      <td>0.00</td>\n",
       "      <td>0.00</td>\n",
       "      <td>1</td>\n",
       "    </tr>\n",
       "    <tr>\n",
       "      <th>7998</th>\n",
       "      <td>0.04</td>\n",
       "      <td>6.85</td>\n",
       "      <td>0.01</td>\n",
       "      <td>0.70</td>\n",
       "      <td>0.030</td>\n",
       "      <td>0.05</td>\n",
       "      <td>0.01</td>\n",
       "      <td>0.03</td>\n",
       "      <td>1.00</td>\n",
       "      <td>0.00</td>\n",
       "      <td>...</td>\n",
       "      <td>0.182</td>\n",
       "      <td>15.92</td>\n",
       "      <td>1.00</td>\n",
       "      <td>0.000</td>\n",
       "      <td>1.35</td>\n",
       "      <td>4.84</td>\n",
       "      <td>0.00</td>\n",
       "      <td>0.04</td>\n",
       "      <td>0.05</td>\n",
       "      <td>1</td>\n",
       "    </tr>\n",
       "  </tbody>\n",
       "</table>\n",
       "<p>7999 rows × 21 columns</p>\n",
       "</div>"
      ],
      "text/plain": [
       "      aluminium ammonia  arsenic  barium  cadmium  chloramine  chromium  \\\n",
       "0          1.65    9.08     0.04    2.85    0.007        0.35      0.83   \n",
       "1          2.32   21.16     0.01    3.31    0.002        5.28      0.68   \n",
       "2          1.01   14.02     0.04    0.58    0.008        4.24      0.53   \n",
       "3          1.36   11.33     0.04    2.96    0.001        7.23      0.03   \n",
       "4          0.92   24.33     0.03    0.20    0.006        2.67      0.69   \n",
       "...         ...     ...      ...     ...      ...         ...       ...   \n",
       "7994       0.05    7.78     0.00    1.95    0.040        0.10      0.03   \n",
       "7995       0.05   24.22     0.02    0.59    0.010        0.45      0.02   \n",
       "7996       0.09    6.85     0.00    0.61    0.030        0.05      0.05   \n",
       "7997       0.01      10     0.01    2.00    0.000        2.00      0.00   \n",
       "7998       0.04    6.85     0.01    0.70    0.030        0.05      0.01   \n",
       "\n",
       "      copper  flouride  bacteria  ...   lead  nitrates  nitrites  mercury  \\\n",
       "0       0.17      0.05      0.20  ...  0.054     16.08      1.13    0.007   \n",
       "1       0.66      0.90      0.65  ...  0.100      2.01      1.93    0.003   \n",
       "2       0.02      0.99      0.05  ...  0.078     14.16      1.11    0.006   \n",
       "3       1.66      1.08      0.71  ...  0.016      1.41      1.29    0.004   \n",
       "4       0.57      0.61      0.13  ...  0.117      6.74      1.11    0.003   \n",
       "...      ...       ...       ...  ...    ...       ...       ...      ...   \n",
       "7994    0.03      1.37      0.00  ...  0.197     14.29      1.00    0.005   \n",
       "7995    0.02      1.48      0.00  ...  0.031     10.27      1.00    0.001   \n",
       "7996    0.02      0.91      0.00  ...  0.182     15.92      1.00    0.000   \n",
       "7997    0.09      0.00      0.00  ...  0.000      0.00      0.00    0.000   \n",
       "7998    0.03      1.00      0.00  ...  0.182     15.92      1.00    0.000   \n",
       "\n",
       "      perchlorate  radium  selenium  silver  uranium  is_safe  \n",
       "0           37.75    6.78      0.08    0.34     0.02        1  \n",
       "1           32.26    3.21      0.08    0.27     0.05        1  \n",
       "2           50.28    7.07      0.07    0.44     0.01        0  \n",
       "3            9.12    1.72      0.02    0.45     0.05        1  \n",
       "4           16.90    2.41      0.02    0.06     0.02        1  \n",
       "...           ...     ...       ...     ...      ...      ...  \n",
       "7994         3.57    2.13      0.09    0.06     0.03        1  \n",
       "7995         1.48    1.11      0.09    0.10     0.08        1  \n",
       "7996         1.35    4.84      0.00    0.04     0.05        1  \n",
       "7997         0.00    0.00      0.00    0.00     0.00        1  \n",
       "7998         1.35    4.84      0.00    0.04     0.05        1  \n",
       "\n",
       "[7999 rows x 21 columns]"
      ]
     },
     "execution_count": 6,
     "metadata": {},
     "output_type": "execute_result"
    }
   ],
   "source": [
    "df = pd.read_csv('water_Quality.csv')\n",
    "df"
   ]
  },
  {
   "cell_type": "markdown",
   "id": "afa59875-277e-48ef-b0b0-9c05397f33f2",
   "metadata": {},
   "source": [
    "***Data Explorartion***"
   ]
  },
  {
   "cell_type": "code",
   "execution_count": 8,
   "id": "9be1d9ff-3b00-46f2-bcd6-5bb6a5af0719",
   "metadata": {},
   "outputs": [
    {
     "name": "stdout",
     "output_type": "stream",
     "text": [
      "<class 'pandas.core.frame.DataFrame'>\n",
      "RangeIndex: 7999 entries, 0 to 7998\n",
      "Data columns (total 21 columns):\n",
      " #   Column       Non-Null Count  Dtype  \n",
      "---  ------       --------------  -----  \n",
      " 0   aluminium    7999 non-null   float64\n",
      " 1   ammonia      7999 non-null   object \n",
      " 2   arsenic      7999 non-null   float64\n",
      " 3   barium       7999 non-null   float64\n",
      " 4   cadmium      7999 non-null   float64\n",
      " 5   chloramine   7999 non-null   float64\n",
      " 6   chromium     7999 non-null   float64\n",
      " 7   copper       7999 non-null   float64\n",
      " 8   flouride     7999 non-null   float64\n",
      " 9   bacteria     7999 non-null   float64\n",
      " 10  viruses      7999 non-null   float64\n",
      " 11  lead         7999 non-null   float64\n",
      " 12  nitrates     7999 non-null   float64\n",
      " 13  nitrites     7999 non-null   float64\n",
      " 14  mercury      7999 non-null   float64\n",
      " 15  perchlorate  7999 non-null   float64\n",
      " 16  radium       7999 non-null   float64\n",
      " 17  selenium     7999 non-null   float64\n",
      " 18  silver       7999 non-null   float64\n",
      " 19  uranium      7999 non-null   float64\n",
      " 20  is_safe      7999 non-null   object \n",
      "dtypes: float64(19), object(2)\n",
      "memory usage: 1.3+ MB\n"
     ]
    }
   ],
   "source": [
    "df.info()"
   ]
  },
  {
   "cell_type": "code",
   "execution_count": 9,
   "id": "3d564207-1176-4069-8f7f-548910edb522",
   "metadata": {},
   "outputs": [
    {
     "data": {
      "text/plain": [
       "ammonia\n",
       "#NUM!    3\n",
       "-0.01    4\n",
       "-0.03    2\n",
       "-0.07    2\n",
       "-0.08    2\n",
       "        ..\n",
       "9.95     2\n",
       "9.96     3\n",
       "9.97     3\n",
       "9.98     2\n",
       "9.99     4\n",
       "Name: count, Length: 2564, dtype: int64"
      ]
     },
     "execution_count": 9,
     "metadata": {},
     "output_type": "execute_result"
    }
   ],
   "source": [
    "df['ammonia'].value_counts().sort_index()"
   ]
  },
  {
   "cell_type": "code",
   "execution_count": 10,
   "id": "e0ab350e-50d6-4d52-8144-cfb92afef960",
   "metadata": {},
   "outputs": [
    {
     "data": {
      "text/plain": [
       "is_safe\n",
       "0        7084\n",
       "1         912\n",
       "#NUM!       3\n",
       "Name: count, dtype: int64"
      ]
     },
     "execution_count": 10,
     "metadata": {},
     "output_type": "execute_result"
    }
   ],
   "source": [
    "df['is_safe'].value_counts()"
   ]
  },
  {
   "cell_type": "markdown",
   "id": "f43dfb21-0d09-432f-bed6-c686d5766c1c",
   "metadata": {},
   "source": [
    "The columns ammonia and is_safe are assigned with the wrong data type because some rows of them have invalid values. \n",
    "Let's see in which ones this occur."
   ]
  },
  {
   "cell_type": "markdown",
   "id": "1232414d-cf4d-4b63-ba33-553fb6af9cce",
   "metadata": {},
   "source": [
    "***Data cleaning and converting***"
   ]
  },
  {
   "cell_type": "code",
   "execution_count": 13,
   "id": "2f7373a0-d723-4681-8846-cbc4ca71f689",
   "metadata": {},
   "outputs": [
    {
     "data": {
      "text/html": [
       "<div>\n",
       "<style scoped>\n",
       "    .dataframe tbody tr th:only-of-type {\n",
       "        vertical-align: middle;\n",
       "    }\n",
       "\n",
       "    .dataframe tbody tr th {\n",
       "        vertical-align: top;\n",
       "    }\n",
       "\n",
       "    .dataframe thead th {\n",
       "        text-align: right;\n",
       "    }\n",
       "</style>\n",
       "<table border=\"1\" class=\"dataframe\">\n",
       "  <thead>\n",
       "    <tr style=\"text-align: right;\">\n",
       "      <th></th>\n",
       "      <th>aluminium</th>\n",
       "      <th>ammonia</th>\n",
       "      <th>arsenic</th>\n",
       "      <th>barium</th>\n",
       "      <th>cadmium</th>\n",
       "      <th>chloramine</th>\n",
       "      <th>chromium</th>\n",
       "      <th>copper</th>\n",
       "      <th>flouride</th>\n",
       "      <th>bacteria</th>\n",
       "      <th>...</th>\n",
       "      <th>lead</th>\n",
       "      <th>nitrates</th>\n",
       "      <th>nitrites</th>\n",
       "      <th>mercury</th>\n",
       "      <th>perchlorate</th>\n",
       "      <th>radium</th>\n",
       "      <th>selenium</th>\n",
       "      <th>silver</th>\n",
       "      <th>uranium</th>\n",
       "      <th>is_safe</th>\n",
       "    </tr>\n",
       "  </thead>\n",
       "  <tbody>\n",
       "    <tr>\n",
       "      <th>7551</th>\n",
       "      <td>0.03</td>\n",
       "      <td>#NUM!</td>\n",
       "      <td>0.08</td>\n",
       "      <td>0.79</td>\n",
       "      <td>0.07</td>\n",
       "      <td>0.08</td>\n",
       "      <td>0.05</td>\n",
       "      <td>0.58</td>\n",
       "      <td>0.34</td>\n",
       "      <td>0.00</td>\n",
       "      <td>...</td>\n",
       "      <td>0.183</td>\n",
       "      <td>4.37</td>\n",
       "      <td>1.43</td>\n",
       "      <td>0.007</td>\n",
       "      <td>0.62</td>\n",
       "      <td>2.54</td>\n",
       "      <td>0.07</td>\n",
       "      <td>0.05</td>\n",
       "      <td>0.05</td>\n",
       "      <td>#NUM!</td>\n",
       "    </tr>\n",
       "    <tr>\n",
       "      <th>7568</th>\n",
       "      <td>0.06</td>\n",
       "      <td>#NUM!</td>\n",
       "      <td>0.07</td>\n",
       "      <td>1.72</td>\n",
       "      <td>0.08</td>\n",
       "      <td>0.32</td>\n",
       "      <td>0.01</td>\n",
       "      <td>1.11</td>\n",
       "      <td>0.61</td>\n",
       "      <td>0.00</td>\n",
       "      <td>...</td>\n",
       "      <td>0.178</td>\n",
       "      <td>12.10</td>\n",
       "      <td>2.03</td>\n",
       "      <td>0.008</td>\n",
       "      <td>1.37</td>\n",
       "      <td>2.05</td>\n",
       "      <td>0.06</td>\n",
       "      <td>0.10</td>\n",
       "      <td>0.07</td>\n",
       "      <td>#NUM!</td>\n",
       "    </tr>\n",
       "    <tr>\n",
       "      <th>7890</th>\n",
       "      <td>0.01</td>\n",
       "      <td>#NUM!</td>\n",
       "      <td>0.08</td>\n",
       "      <td>0.49</td>\n",
       "      <td>0.00</td>\n",
       "      <td>0.07</td>\n",
       "      <td>0.09</td>\n",
       "      <td>0.06</td>\n",
       "      <td>0.72</td>\n",
       "      <td>0.57</td>\n",
       "      <td>...</td>\n",
       "      <td>0.088</td>\n",
       "      <td>9.57</td>\n",
       "      <td>1.45</td>\n",
       "      <td>0.009</td>\n",
       "      <td>7.67</td>\n",
       "      <td>7.70</td>\n",
       "      <td>0.03</td>\n",
       "      <td>0.05</td>\n",
       "      <td>0.02</td>\n",
       "      <td>#NUM!</td>\n",
       "    </tr>\n",
       "  </tbody>\n",
       "</table>\n",
       "<p>3 rows × 21 columns</p>\n",
       "</div>"
      ],
      "text/plain": [
       "      aluminium ammonia  arsenic  barium  cadmium  chloramine  chromium  \\\n",
       "7551       0.03   #NUM!     0.08    0.79     0.07        0.08      0.05   \n",
       "7568       0.06   #NUM!     0.07    1.72     0.08        0.32      0.01   \n",
       "7890       0.01   #NUM!     0.08    0.49     0.00        0.07      0.09   \n",
       "\n",
       "      copper  flouride  bacteria  ...   lead  nitrates  nitrites  mercury  \\\n",
       "7551    0.58      0.34      0.00  ...  0.183      4.37      1.43    0.007   \n",
       "7568    1.11      0.61      0.00  ...  0.178     12.10      2.03    0.008   \n",
       "7890    0.06      0.72      0.57  ...  0.088      9.57      1.45    0.009   \n",
       "\n",
       "      perchlorate  radium  selenium  silver  uranium  is_safe  \n",
       "7551         0.62    2.54      0.07    0.05     0.05    #NUM!  \n",
       "7568         1.37    2.05      0.06    0.10     0.07    #NUM!  \n",
       "7890         7.67    7.70      0.03    0.05     0.02    #NUM!  \n",
       "\n",
       "[3 rows x 21 columns]"
      ]
     },
     "execution_count": 13,
     "metadata": {},
     "output_type": "execute_result"
    }
   ],
   "source": [
    "df.query('ammonia == \"#NUM!\"')"
   ]
  },
  {
   "cell_type": "code",
   "execution_count": 14,
   "id": "dfc3c7a5-a04f-45c3-84ef-751bc339f475",
   "metadata": {},
   "outputs": [
    {
     "data": {
      "text/html": [
       "<div>\n",
       "<style scoped>\n",
       "    .dataframe tbody tr th:only-of-type {\n",
       "        vertical-align: middle;\n",
       "    }\n",
       "\n",
       "    .dataframe tbody tr th {\n",
       "        vertical-align: top;\n",
       "    }\n",
       "\n",
       "    .dataframe thead th {\n",
       "        text-align: right;\n",
       "    }\n",
       "</style>\n",
       "<table border=\"1\" class=\"dataframe\">\n",
       "  <thead>\n",
       "    <tr style=\"text-align: right;\">\n",
       "      <th></th>\n",
       "      <th>aluminium</th>\n",
       "      <th>ammonia</th>\n",
       "      <th>arsenic</th>\n",
       "      <th>barium</th>\n",
       "      <th>cadmium</th>\n",
       "      <th>chloramine</th>\n",
       "      <th>chromium</th>\n",
       "      <th>copper</th>\n",
       "      <th>flouride</th>\n",
       "      <th>bacteria</th>\n",
       "      <th>...</th>\n",
       "      <th>lead</th>\n",
       "      <th>nitrates</th>\n",
       "      <th>nitrites</th>\n",
       "      <th>mercury</th>\n",
       "      <th>perchlorate</th>\n",
       "      <th>radium</th>\n",
       "      <th>selenium</th>\n",
       "      <th>silver</th>\n",
       "      <th>uranium</th>\n",
       "      <th>is_safe</th>\n",
       "    </tr>\n",
       "  </thead>\n",
       "  <tbody>\n",
       "    <tr>\n",
       "      <th>7551</th>\n",
       "      <td>0.03</td>\n",
       "      <td>#NUM!</td>\n",
       "      <td>0.08</td>\n",
       "      <td>0.79</td>\n",
       "      <td>0.07</td>\n",
       "      <td>0.08</td>\n",
       "      <td>0.05</td>\n",
       "      <td>0.58</td>\n",
       "      <td>0.34</td>\n",
       "      <td>0.00</td>\n",
       "      <td>...</td>\n",
       "      <td>0.183</td>\n",
       "      <td>4.37</td>\n",
       "      <td>1.43</td>\n",
       "      <td>0.007</td>\n",
       "      <td>0.62</td>\n",
       "      <td>2.54</td>\n",
       "      <td>0.07</td>\n",
       "      <td>0.05</td>\n",
       "      <td>0.05</td>\n",
       "      <td>#NUM!</td>\n",
       "    </tr>\n",
       "    <tr>\n",
       "      <th>7568</th>\n",
       "      <td>0.06</td>\n",
       "      <td>#NUM!</td>\n",
       "      <td>0.07</td>\n",
       "      <td>1.72</td>\n",
       "      <td>0.08</td>\n",
       "      <td>0.32</td>\n",
       "      <td>0.01</td>\n",
       "      <td>1.11</td>\n",
       "      <td>0.61</td>\n",
       "      <td>0.00</td>\n",
       "      <td>...</td>\n",
       "      <td>0.178</td>\n",
       "      <td>12.10</td>\n",
       "      <td>2.03</td>\n",
       "      <td>0.008</td>\n",
       "      <td>1.37</td>\n",
       "      <td>2.05</td>\n",
       "      <td>0.06</td>\n",
       "      <td>0.10</td>\n",
       "      <td>0.07</td>\n",
       "      <td>#NUM!</td>\n",
       "    </tr>\n",
       "    <tr>\n",
       "      <th>7890</th>\n",
       "      <td>0.01</td>\n",
       "      <td>#NUM!</td>\n",
       "      <td>0.08</td>\n",
       "      <td>0.49</td>\n",
       "      <td>0.00</td>\n",
       "      <td>0.07</td>\n",
       "      <td>0.09</td>\n",
       "      <td>0.06</td>\n",
       "      <td>0.72</td>\n",
       "      <td>0.57</td>\n",
       "      <td>...</td>\n",
       "      <td>0.088</td>\n",
       "      <td>9.57</td>\n",
       "      <td>1.45</td>\n",
       "      <td>0.009</td>\n",
       "      <td>7.67</td>\n",
       "      <td>7.70</td>\n",
       "      <td>0.03</td>\n",
       "      <td>0.05</td>\n",
       "      <td>0.02</td>\n",
       "      <td>#NUM!</td>\n",
       "    </tr>\n",
       "  </tbody>\n",
       "</table>\n",
       "<p>3 rows × 21 columns</p>\n",
       "</div>"
      ],
      "text/plain": [
       "      aluminium ammonia  arsenic  barium  cadmium  chloramine  chromium  \\\n",
       "7551       0.03   #NUM!     0.08    0.79     0.07        0.08      0.05   \n",
       "7568       0.06   #NUM!     0.07    1.72     0.08        0.32      0.01   \n",
       "7890       0.01   #NUM!     0.08    0.49     0.00        0.07      0.09   \n",
       "\n",
       "      copper  flouride  bacteria  ...   lead  nitrates  nitrites  mercury  \\\n",
       "7551    0.58      0.34      0.00  ...  0.183      4.37      1.43    0.007   \n",
       "7568    1.11      0.61      0.00  ...  0.178     12.10      2.03    0.008   \n",
       "7890    0.06      0.72      0.57  ...  0.088      9.57      1.45    0.009   \n",
       "\n",
       "      perchlorate  radium  selenium  silver  uranium  is_safe  \n",
       "7551         0.62    2.54      0.07    0.05     0.05    #NUM!  \n",
       "7568         1.37    2.05      0.06    0.10     0.07    #NUM!  \n",
       "7890         7.67    7.70      0.03    0.05     0.02    #NUM!  \n",
       "\n",
       "[3 rows x 21 columns]"
      ]
     },
     "execution_count": 14,
     "metadata": {},
     "output_type": "execute_result"
    }
   ],
   "source": [
    "df.query('is_safe == \"#NUM!\"')"
   ]
  },
  {
   "cell_type": "markdown",
   "id": "b55ff67c-eafe-4817-87d8-7d8903fbeb4f",
   "metadata": {},
   "source": [
    "The rows with invalid values are the same in both cases. Let's drop them."
   ]
  },
  {
   "cell_type": "code",
   "execution_count": 16,
   "id": "049d2e28-8a0d-4776-a682-7389300c1533",
   "metadata": {},
   "outputs": [],
   "source": [
    "df = df.drop(index=[7551, 7568, 7890], errors='ignore')"
   ]
  },
  {
   "cell_type": "markdown",
   "id": "baaa9b33-b36c-443e-ba6c-2294b90ec256",
   "metadata": {},
   "source": [
    "Converting the columns for right data type"
   ]
  },
  {
   "cell_type": "code",
   "execution_count": 18,
   "id": "6ed27fcf-a451-4ea8-afec-080e7343a324",
   "metadata": {},
   "outputs": [],
   "source": [
    "df['ammonia'] = df['ammonia'].astype(float)    \n",
    "df['is_safe'] = df['is_safe'].astype(int)"
   ]
  },
  {
   "cell_type": "markdown",
   "id": "f0d39133-80c7-4f94-9b4e-0bb5df35f2eb",
   "metadata": {},
   "source": [
    "Ensure that the changes have been applied correctly."
   ]
  },
  {
   "cell_type": "code",
   "execution_count": 20,
   "id": "50f3e9ae-7fc9-47e3-891a-8501d2269860",
   "metadata": {},
   "outputs": [
    {
     "name": "stdout",
     "output_type": "stream",
     "text": [
      "<class 'pandas.core.frame.DataFrame'>\n",
      "Index: 7996 entries, 0 to 7998\n",
      "Data columns (total 21 columns):\n",
      " #   Column       Non-Null Count  Dtype  \n",
      "---  ------       --------------  -----  \n",
      " 0   aluminium    7996 non-null   float64\n",
      " 1   ammonia      7996 non-null   float64\n",
      " 2   arsenic      7996 non-null   float64\n",
      " 3   barium       7996 non-null   float64\n",
      " 4   cadmium      7996 non-null   float64\n",
      " 5   chloramine   7996 non-null   float64\n",
      " 6   chromium     7996 non-null   float64\n",
      " 7   copper       7996 non-null   float64\n",
      " 8   flouride     7996 non-null   float64\n",
      " 9   bacteria     7996 non-null   float64\n",
      " 10  viruses      7996 non-null   float64\n",
      " 11  lead         7996 non-null   float64\n",
      " 12  nitrates     7996 non-null   float64\n",
      " 13  nitrites     7996 non-null   float64\n",
      " 14  mercury      7996 non-null   float64\n",
      " 15  perchlorate  7996 non-null   float64\n",
      " 16  radium       7996 non-null   float64\n",
      " 17  selenium     7996 non-null   float64\n",
      " 18  silver       7996 non-null   float64\n",
      " 19  uranium      7996 non-null   float64\n",
      " 20  is_safe      7996 non-null   int32  \n",
      "dtypes: float64(20), int32(1)\n",
      "memory usage: 1.3 MB\n"
     ]
    }
   ],
   "source": [
    "df.info()"
   ]
  },
  {
   "cell_type": "code",
   "execution_count": 21,
   "id": "4056c4c0-ed70-4b4c-b0a1-445dbdb659d2",
   "metadata": {},
   "outputs": [
    {
     "data": {
      "text/html": [
       "<div>\n",
       "<style scoped>\n",
       "    .dataframe tbody tr th:only-of-type {\n",
       "        vertical-align: middle;\n",
       "    }\n",
       "\n",
       "    .dataframe tbody tr th {\n",
       "        vertical-align: top;\n",
       "    }\n",
       "\n",
       "    .dataframe thead th {\n",
       "        text-align: right;\n",
       "    }\n",
       "</style>\n",
       "<table border=\"1\" class=\"dataframe\">\n",
       "  <thead>\n",
       "    <tr style=\"text-align: right;\">\n",
       "      <th></th>\n",
       "      <th>aluminium</th>\n",
       "      <th>ammonia</th>\n",
       "      <th>arsenic</th>\n",
       "      <th>barium</th>\n",
       "      <th>cadmium</th>\n",
       "      <th>chloramine</th>\n",
       "      <th>chromium</th>\n",
       "      <th>copper</th>\n",
       "      <th>flouride</th>\n",
       "      <th>bacteria</th>\n",
       "      <th>...</th>\n",
       "      <th>lead</th>\n",
       "      <th>nitrates</th>\n",
       "      <th>nitrites</th>\n",
       "      <th>mercury</th>\n",
       "      <th>perchlorate</th>\n",
       "      <th>radium</th>\n",
       "      <th>selenium</th>\n",
       "      <th>silver</th>\n",
       "      <th>uranium</th>\n",
       "      <th>is_safe</th>\n",
       "    </tr>\n",
       "  </thead>\n",
       "  <tbody>\n",
       "    <tr>\n",
       "      <th>count</th>\n",
       "      <td>7996.000000</td>\n",
       "      <td>7996.000000</td>\n",
       "      <td>7996.000000</td>\n",
       "      <td>7996.000000</td>\n",
       "      <td>7996.000000</td>\n",
       "      <td>7996.000000</td>\n",
       "      <td>7996.000000</td>\n",
       "      <td>7996.000000</td>\n",
       "      <td>7996.000000</td>\n",
       "      <td>7996.000000</td>\n",
       "      <td>...</td>\n",
       "      <td>7996.000000</td>\n",
       "      <td>7996.000000</td>\n",
       "      <td>7996.000000</td>\n",
       "      <td>7996.000000</td>\n",
       "      <td>7996.000000</td>\n",
       "      <td>7996.000000</td>\n",
       "      <td>7996.000000</td>\n",
       "      <td>7996.000000</td>\n",
       "      <td>7996.000000</td>\n",
       "      <td>7996.000000</td>\n",
       "    </tr>\n",
       "    <tr>\n",
       "      <th>mean</th>\n",
       "      <td>0.666396</td>\n",
       "      <td>14.278212</td>\n",
       "      <td>0.161477</td>\n",
       "      <td>1.567928</td>\n",
       "      <td>0.042803</td>\n",
       "      <td>2.177589</td>\n",
       "      <td>0.247300</td>\n",
       "      <td>0.805940</td>\n",
       "      <td>0.771646</td>\n",
       "      <td>0.319714</td>\n",
       "      <td>...</td>\n",
       "      <td>0.099431</td>\n",
       "      <td>9.819250</td>\n",
       "      <td>1.329846</td>\n",
       "      <td>0.005193</td>\n",
       "      <td>16.465266</td>\n",
       "      <td>2.920106</td>\n",
       "      <td>0.049684</td>\n",
       "      <td>0.147811</td>\n",
       "      <td>0.044672</td>\n",
       "      <td>0.114057</td>\n",
       "    </tr>\n",
       "    <tr>\n",
       "      <th>std</th>\n",
       "      <td>1.265323</td>\n",
       "      <td>8.878930</td>\n",
       "      <td>0.252632</td>\n",
       "      <td>1.216227</td>\n",
       "      <td>0.036049</td>\n",
       "      <td>2.567210</td>\n",
       "      <td>0.270663</td>\n",
       "      <td>0.653595</td>\n",
       "      <td>0.435423</td>\n",
       "      <td>0.329497</td>\n",
       "      <td>...</td>\n",
       "      <td>0.058169</td>\n",
       "      <td>5.541977</td>\n",
       "      <td>0.573271</td>\n",
       "      <td>0.002967</td>\n",
       "      <td>17.688827</td>\n",
       "      <td>2.322805</td>\n",
       "      <td>0.028773</td>\n",
       "      <td>0.143569</td>\n",
       "      <td>0.026906</td>\n",
       "      <td>0.317900</td>\n",
       "    </tr>\n",
       "    <tr>\n",
       "      <th>min</th>\n",
       "      <td>0.000000</td>\n",
       "      <td>-0.080000</td>\n",
       "      <td>0.000000</td>\n",
       "      <td>0.000000</td>\n",
       "      <td>0.000000</td>\n",
       "      <td>0.000000</td>\n",
       "      <td>0.000000</td>\n",
       "      <td>0.000000</td>\n",
       "      <td>0.000000</td>\n",
       "      <td>0.000000</td>\n",
       "      <td>...</td>\n",
       "      <td>0.000000</td>\n",
       "      <td>0.000000</td>\n",
       "      <td>0.000000</td>\n",
       "      <td>0.000000</td>\n",
       "      <td>0.000000</td>\n",
       "      <td>0.000000</td>\n",
       "      <td>0.000000</td>\n",
       "      <td>0.000000</td>\n",
       "      <td>0.000000</td>\n",
       "      <td>0.000000</td>\n",
       "    </tr>\n",
       "    <tr>\n",
       "      <th>25%</th>\n",
       "      <td>0.040000</td>\n",
       "      <td>6.577500</td>\n",
       "      <td>0.030000</td>\n",
       "      <td>0.560000</td>\n",
       "      <td>0.008000</td>\n",
       "      <td>0.100000</td>\n",
       "      <td>0.050000</td>\n",
       "      <td>0.090000</td>\n",
       "      <td>0.407500</td>\n",
       "      <td>0.000000</td>\n",
       "      <td>...</td>\n",
       "      <td>0.048000</td>\n",
       "      <td>5.000000</td>\n",
       "      <td>1.000000</td>\n",
       "      <td>0.003000</td>\n",
       "      <td>2.170000</td>\n",
       "      <td>0.820000</td>\n",
       "      <td>0.020000</td>\n",
       "      <td>0.040000</td>\n",
       "      <td>0.020000</td>\n",
       "      <td>0.000000</td>\n",
       "    </tr>\n",
       "    <tr>\n",
       "      <th>50%</th>\n",
       "      <td>0.070000</td>\n",
       "      <td>14.130000</td>\n",
       "      <td>0.050000</td>\n",
       "      <td>1.190000</td>\n",
       "      <td>0.040000</td>\n",
       "      <td>0.530000</td>\n",
       "      <td>0.090000</td>\n",
       "      <td>0.750000</td>\n",
       "      <td>0.770000</td>\n",
       "      <td>0.220000</td>\n",
       "      <td>...</td>\n",
       "      <td>0.102000</td>\n",
       "      <td>9.930000</td>\n",
       "      <td>1.420000</td>\n",
       "      <td>0.005000</td>\n",
       "      <td>7.745000</td>\n",
       "      <td>2.410000</td>\n",
       "      <td>0.050000</td>\n",
       "      <td>0.080000</td>\n",
       "      <td>0.050000</td>\n",
       "      <td>0.000000</td>\n",
       "    </tr>\n",
       "    <tr>\n",
       "      <th>75%</th>\n",
       "      <td>0.280000</td>\n",
       "      <td>22.132500</td>\n",
       "      <td>0.100000</td>\n",
       "      <td>2.482500</td>\n",
       "      <td>0.070000</td>\n",
       "      <td>4.240000</td>\n",
       "      <td>0.440000</td>\n",
       "      <td>1.390000</td>\n",
       "      <td>1.160000</td>\n",
       "      <td>0.610000</td>\n",
       "      <td>...</td>\n",
       "      <td>0.151000</td>\n",
       "      <td>14.610000</td>\n",
       "      <td>1.760000</td>\n",
       "      <td>0.008000</td>\n",
       "      <td>29.487500</td>\n",
       "      <td>4.670000</td>\n",
       "      <td>0.070000</td>\n",
       "      <td>0.240000</td>\n",
       "      <td>0.070000</td>\n",
       "      <td>0.000000</td>\n",
       "    </tr>\n",
       "    <tr>\n",
       "      <th>max</th>\n",
       "      <td>5.050000</td>\n",
       "      <td>29.840000</td>\n",
       "      <td>1.050000</td>\n",
       "      <td>4.940000</td>\n",
       "      <td>0.130000</td>\n",
       "      <td>8.680000</td>\n",
       "      <td>0.900000</td>\n",
       "      <td>2.000000</td>\n",
       "      <td>1.500000</td>\n",
       "      <td>1.000000</td>\n",
       "      <td>...</td>\n",
       "      <td>0.200000</td>\n",
       "      <td>19.830000</td>\n",
       "      <td>2.930000</td>\n",
       "      <td>0.010000</td>\n",
       "      <td>60.010000</td>\n",
       "      <td>7.990000</td>\n",
       "      <td>0.100000</td>\n",
       "      <td>0.500000</td>\n",
       "      <td>0.090000</td>\n",
       "      <td>1.000000</td>\n",
       "    </tr>\n",
       "  </tbody>\n",
       "</table>\n",
       "<p>8 rows × 21 columns</p>\n",
       "</div>"
      ],
      "text/plain": [
       "         aluminium      ammonia      arsenic       barium      cadmium  \\\n",
       "count  7996.000000  7996.000000  7996.000000  7996.000000  7996.000000   \n",
       "mean      0.666396    14.278212     0.161477     1.567928     0.042803   \n",
       "std       1.265323     8.878930     0.252632     1.216227     0.036049   \n",
       "min       0.000000    -0.080000     0.000000     0.000000     0.000000   \n",
       "25%       0.040000     6.577500     0.030000     0.560000     0.008000   \n",
       "50%       0.070000    14.130000     0.050000     1.190000     0.040000   \n",
       "75%       0.280000    22.132500     0.100000     2.482500     0.070000   \n",
       "max       5.050000    29.840000     1.050000     4.940000     0.130000   \n",
       "\n",
       "        chloramine     chromium       copper     flouride     bacteria  ...  \\\n",
       "count  7996.000000  7996.000000  7996.000000  7996.000000  7996.000000  ...   \n",
       "mean      2.177589     0.247300     0.805940     0.771646     0.319714  ...   \n",
       "std       2.567210     0.270663     0.653595     0.435423     0.329497  ...   \n",
       "min       0.000000     0.000000     0.000000     0.000000     0.000000  ...   \n",
       "25%       0.100000     0.050000     0.090000     0.407500     0.000000  ...   \n",
       "50%       0.530000     0.090000     0.750000     0.770000     0.220000  ...   \n",
       "75%       4.240000     0.440000     1.390000     1.160000     0.610000  ...   \n",
       "max       8.680000     0.900000     2.000000     1.500000     1.000000  ...   \n",
       "\n",
       "              lead     nitrates     nitrites      mercury  perchlorate  \\\n",
       "count  7996.000000  7996.000000  7996.000000  7996.000000  7996.000000   \n",
       "mean      0.099431     9.819250     1.329846     0.005193    16.465266   \n",
       "std       0.058169     5.541977     0.573271     0.002967    17.688827   \n",
       "min       0.000000     0.000000     0.000000     0.000000     0.000000   \n",
       "25%       0.048000     5.000000     1.000000     0.003000     2.170000   \n",
       "50%       0.102000     9.930000     1.420000     0.005000     7.745000   \n",
       "75%       0.151000    14.610000     1.760000     0.008000    29.487500   \n",
       "max       0.200000    19.830000     2.930000     0.010000    60.010000   \n",
       "\n",
       "            radium     selenium       silver      uranium      is_safe  \n",
       "count  7996.000000  7996.000000  7996.000000  7996.000000  7996.000000  \n",
       "mean      2.920106     0.049684     0.147811     0.044672     0.114057  \n",
       "std       2.322805     0.028773     0.143569     0.026906     0.317900  \n",
       "min       0.000000     0.000000     0.000000     0.000000     0.000000  \n",
       "25%       0.820000     0.020000     0.040000     0.020000     0.000000  \n",
       "50%       2.410000     0.050000     0.080000     0.050000     0.000000  \n",
       "75%       4.670000     0.070000     0.240000     0.070000     0.000000  \n",
       "max       7.990000     0.100000     0.500000     0.090000     1.000000  \n",
       "\n",
       "[8 rows x 21 columns]"
      ]
     },
     "execution_count": 21,
     "metadata": {},
     "output_type": "execute_result"
    }
   ],
   "source": [
    "df.describe()"
   ]
  },
  {
   "cell_type": "markdown",
   "id": "258b5d2d-67ef-40a5-ba27-277c9833ce67",
   "metadata": {},
   "source": [
    "quick overview of the dataset's dimensions"
   ]
  },
  {
   "cell_type": "code",
   "execution_count": 23,
   "id": "6fcaf581-794a-4202-805d-1d10041b0566",
   "metadata": {},
   "outputs": [
    {
     "data": {
      "text/plain": [
       "(7996, 21)"
      ]
     },
     "execution_count": 23,
     "metadata": {},
     "output_type": "execute_result"
    }
   ],
   "source": [
    "df.shape"
   ]
  },
  {
   "cell_type": "code",
   "execution_count": 24,
   "id": "55972195-421c-49af-b346-71583b3a6024",
   "metadata": {},
   "outputs": [
    {
     "data": {
      "text/html": [
       "<div>\n",
       "<style scoped>\n",
       "    .dataframe tbody tr th:only-of-type {\n",
       "        vertical-align: middle;\n",
       "    }\n",
       "\n",
       "    .dataframe tbody tr th {\n",
       "        vertical-align: top;\n",
       "    }\n",
       "\n",
       "    .dataframe thead th {\n",
       "        text-align: right;\n",
       "    }\n",
       "</style>\n",
       "<table border=\"1\" class=\"dataframe\">\n",
       "  <thead>\n",
       "    <tr style=\"text-align: right;\">\n",
       "      <th></th>\n",
       "      <th>aluminium</th>\n",
       "      <th>ammonia</th>\n",
       "      <th>arsenic</th>\n",
       "      <th>barium</th>\n",
       "      <th>cadmium</th>\n",
       "      <th>chloramine</th>\n",
       "      <th>chromium</th>\n",
       "      <th>copper</th>\n",
       "      <th>flouride</th>\n",
       "      <th>bacteria</th>\n",
       "      <th>...</th>\n",
       "      <th>lead</th>\n",
       "      <th>nitrates</th>\n",
       "      <th>nitrites</th>\n",
       "      <th>mercury</th>\n",
       "      <th>perchlorate</th>\n",
       "      <th>radium</th>\n",
       "      <th>selenium</th>\n",
       "      <th>silver</th>\n",
       "      <th>uranium</th>\n",
       "      <th>is_safe</th>\n",
       "    </tr>\n",
       "  </thead>\n",
       "  <tbody>\n",
       "  </tbody>\n",
       "</table>\n",
       "<p>0 rows × 21 columns</p>\n",
       "</div>"
      ],
      "text/plain": [
       "Empty DataFrame\n",
       "Columns: [aluminium, ammonia, arsenic, barium, cadmium, chloramine, chromium, copper, flouride, bacteria, viruses, lead, nitrates, nitrites, mercury, perchlorate, radium, selenium, silver, uranium, is_safe]\n",
       "Index: []\n",
       "\n",
       "[0 rows x 21 columns]"
      ]
     },
     "execution_count": 24,
     "metadata": {},
     "output_type": "execute_result"
    }
   ],
   "source": [
    "duplicates = df[df.duplicated()]\n",
    "duplicates"
   ]
  },
  {
   "cell_type": "code",
   "execution_count": 25,
   "id": "0f671418-00a9-4289-86c8-7bb8bc3efc93",
   "metadata": {},
   "outputs": [
    {
     "data": {
      "text/plain": [
       "Index(['aluminium', 'ammonia', 'arsenic', 'barium', 'cadmium', 'chloramine',\n",
       "       'chromium', 'copper', 'flouride', 'bacteria', 'viruses', 'lead',\n",
       "       'nitrates', 'nitrites', 'mercury', 'perchlorate', 'radium', 'selenium',\n",
       "       'silver', 'uranium', 'is_safe'],\n",
       "      dtype='object')"
      ]
     },
     "execution_count": 25,
     "metadata": {},
     "output_type": "execute_result"
    }
   ],
   "source": [
    "a=df.columns\n",
    "a"
   ]
  },
  {
   "cell_type": "markdown",
   "id": "a708f064-5725-4dc0-a4bf-9fe05dd0db69",
   "metadata": {},
   "source": [
    "***Handling Missing Values***"
   ]
  },
  {
   "cell_type": "markdown",
   "id": "7bf081a5-dee4-4127-8f67-8f2bf3b11bb9",
   "metadata": {},
   "source": [
    "Provides the count of missing values for each column"
   ]
  },
  {
   "cell_type": "code",
   "execution_count": 28,
   "id": "223737b9-e23a-4d2e-bec5-c3c37882ed4e",
   "metadata": {},
   "outputs": [
    {
     "data": {
      "text/plain": [
       "aluminium      0\n",
       "ammonia        0\n",
       "arsenic        0\n",
       "barium         0\n",
       "cadmium        0\n",
       "chloramine     0\n",
       "chromium       0\n",
       "copper         0\n",
       "flouride       0\n",
       "bacteria       0\n",
       "viruses        0\n",
       "lead           0\n",
       "nitrates       0\n",
       "nitrites       0\n",
       "mercury        0\n",
       "perchlorate    0\n",
       "radium         0\n",
       "selenium       0\n",
       "silver         0\n",
       "uranium        0\n",
       "is_safe        0\n",
       "dtype: int64"
      ]
     },
     "execution_count": 28,
     "metadata": {},
     "output_type": "execute_result"
    }
   ],
   "source": [
    "df.isnull().sum()"
   ]
  },
  {
   "cell_type": "markdown",
   "id": "0aeb7bcb-5680-48f5-b71a-6f4005bd49cb",
   "metadata": {},
   "source": [
    "***Visualizing Data with Boxplots:***"
   ]
  },
  {
   "cell_type": "markdown",
   "id": "3868db84-f052-4b84-bdb9-09b6182f23ac",
   "metadata": {},
   "source": [
    "See the spread and central tendency of the data."
   ]
  },
  {
   "cell_type": "code",
   "execution_count": 31,
   "id": "3dc1f094-d55f-457f-8a93-c17381f67f4c",
   "metadata": {
    "scrolled": true
   },
   "outputs": [
    {
     "data": {
      "image/png": "[encoded data removed]",
      "text/plain": [
       "<Figure size 640x480 with 1 Axes>"
      ]
     },
     "metadata": {},
     "output_type": "display_data"
    },
    {
     "data": {
      "image/png": "[encoded data removed]",
      "text/plain": [
       "<Figure size 640x480 with 1 Axes>"
      ]
     },
     "metadata": {},
     "output_type": "display_data"
    },
    {
     "data": {
      "image/png": "[encoded data removed]",
      "text/plain": [
       "<Figure size 640x480 with 1 Axes>"
      ]
     },
     "metadata": {},
     "output_type": "display_data"
    },
    {
     "data": {
      "image/png": "[encoded data removed]",
      "text/plain": [
       "<Figure size 640x480 with 1 Axes>"
      ]
     },
     "metadata": {},
     "output_type": "display_data"
    },
    {
     "data": {
      "image/png": "[encoded data removed]",
      "text/plain": [
       "<Figure size 640x480 with 1 Axes>"
      ]
     },
     "metadata": {},
     "output_type": "display_data"
    },
    {
     "data": {
      "image/png": "[encoded data removed]",
      "text/plain": [
       "<Figure size 640x480 with 1 Axes>"
      ]
     },
     "metadata": {},
     "output_type": "display_data"
    },
    {
     "data": {
      "image/png": "[encoded data removed]",
      "text/plain": [
       "<Figure size 640x480 with 1 Axes>"
      ]
     },
     "metadata": {},
     "output_type": "display_data"
    },
    {
     "data": {
      "image/png": "[encoded data removed]",
      "text/plain": [
       "<Figure size 640x480 with 1 Axes>"
      ]
     },
     "metadata": {},
     "output_type": "display_data"
    },
    {
     "data": {
      "image/png": "[encoded data removed]",
      "text/plain": [
       "<Figure size 640x480 with 1 Axes>"
      ]
     },
     "metadata": {},
     "output_type": "display_data"
    },
    {
     "data": {
      "image/png": "[encoded data removed]",
      "text/plain": [
       "<Figure size 640x480 with 1 Axes>"
      ]
     },
     "metadata": {},
     "output_type": "display_data"
    },
    {
     "data": {
      "image/png": "[encoded data removed]",
      "text/plain": [
       "<Figure size 640x480 with 1 Axes>"
      ]
     },
     "metadata": {},
     "output_type": "display_data"
    },
    {
     "data": {
      "image/png": "[encoded data removed]",
      "text/plain": [
       "<Figure size 640x480 with 1 Axes>"
      ]
     },
     "metadata": {},
     "output_type": "display_data"
    },
    {
     "data": {
      "image/png": "[encoded data removed]",
      "text/plain": [
       "<Figure size 640x480 with 1 Axes>"
      ]
     },
     "metadata": {},
     "output_type": "display_data"
    },
    {
     "data": {
      "image/png": "[encoded data removed]",
      "text/plain": [
       "<Figure size 640x480 with 1 Axes>"
      ]
     },
     "metadata": {},
     "output_type": "display_data"
    },
    {
     "data": {
      "image/png": "[encoded data removed]",
      "text/plain": [
       "<Figure size 640x480 with 1 Axes>"
      ]
     },
     "metadata": {},
     "output_type": "display_data"
    },
    {
     "data": {
      "image/png": "[encoded data removed]",
      "text/plain": [
       "<Figure size 640x480 with 1 Axes>"
      ]
     },
     "metadata": {},
     "output_type": "display_data"
    },
    {
     "data": {
      "image/png": "[encoded data removed]",
      "text/plain": [
       "<Figure size 640x480 with 1 Axes>"
      ]
     },
     "metadata": {},
     "output_type": "display_data"
    },
    {
     "data": {
      "image/png": "[encoded data removed]",
      "text/plain": [
       "<Figure size 640x480 with 1 Axes>"
      ]
     },
     "metadata": {},
     "output_type": "display_data"
    },
    {
     "data": {
      "image/png": "[encoded data removed]",
      "text/plain": [
       "<Figure size 640x480 with 1 Axes>"
      ]
     },
     "metadata": {},
     "output_type": "display_data"
    },
    {
     "data": {
      "image/png": "[encoded data removed]",
      "text/plain": [
       "<Figure size 640x480 with 1 Axes>"
      ]
     },
     "metadata": {},
     "output_type": "display_data"
    },
    {
     "data": {
      "image/png": "[encoded data removed]",
      "text/plain": [
       "<Figure size 640x480 with 1 Axes>"
      ]
     },
     "metadata": {},
     "output_type": "display_data"
    }
   ],
   "source": [
    "for i in a:\n",
    "    plt.boxplot(x=df[i])\n",
    "    plt.title(i)\n",
    "    plt.show()"
   ]
  },
  {
   "cell_type": "markdown",
   "id": "7880835f-5993-46bf-a052-954a6df9c5cd",
   "metadata": {},
   "source": [
    "***Outlier detection***"
   ]
  },
  {
   "cell_type": "markdown",
   "id": "1a7f68e0-551e-48c6-a054-d100f95b4f7a",
   "metadata": {},
   "source": [
    "Detect values in the 'aluminium','arsenic' column that fall outside the calculated bounds, indicating potential outliers."
   ]
  },
  {
   "cell_type": "code",
   "execution_count": 34,
   "id": "ac36ee49-1c00-4545-9475-df6ced185ad9",
   "metadata": {},
   "outputs": [
    {
     "name": "stdout",
     "output_type": "stream",
     "text": [
      "q1 0.04\n",
      "q3 0.28\n",
      "iqr 0.24000000000000002\n",
      "upper_tail 0.6400000000000001\n",
      "lower_tail -0.32000000000000006\n"
     ]
    }
   ],
   "source": [
    "# aluminium\n",
    "\n",
    "q1=df['aluminium'].quantile(0.25)\n",
    "q3=df['aluminium'].quantile(0.75)\n",
    "iqr=q3-q1\n",
    "ub=q3+(1.5*iqr)\n",
    "lb=q1-(1.5*iqr)\n",
    "print(\"q1\",q1)\n",
    "print(\"q3\",q3)\n",
    "print(\"iqr\",iqr)\n",
    "print(\"upper_tail\",ub)\n",
    "print(\"lower_tail\",lb)"
   ]
  },
  {
   "cell_type": "code",
   "execution_count": 35,
   "id": "47e7ddd4-cd1f-46a8-8084-044f837d3ed2",
   "metadata": {},
   "outputs": [],
   "source": [
    "#df.loc[df['aluminium']>ub]"
   ]
  },
  {
   "cell_type": "markdown",
   "id": "e2f55e4c-a25a-40a6-bd61-cca79f167203",
   "metadata": {},
   "source": [
    "Managing extreme values without removing them entirely."
   ]
  },
  {
   "cell_type": "code",
   "execution_count": 37,
   "id": "213f3eff-7d7d-4eb5-bd2b-c5d90baaa9f1",
   "metadata": {},
   "outputs": [],
   "source": [
    "df.loc[df['aluminium']>ub,'aluminium']=ub"
   ]
  },
  {
   "cell_type": "code",
   "execution_count": 38,
   "id": "d7399afa-8d08-4b20-8a4f-e579d19b1ba8",
   "metadata": {},
   "outputs": [
    {
     "data": {
      "text/html": [
       "<div>\n",
       "<style scoped>\n",
       "    .dataframe tbody tr th:only-of-type {\n",
       "        vertical-align: middle;\n",
       "    }\n",
       "\n",
       "    .dataframe tbody tr th {\n",
       "        vertical-align: top;\n",
       "    }\n",
       "\n",
       "    .dataframe thead th {\n",
       "        text-align: right;\n",
       "    }\n",
       "</style>\n",
       "<table border=\"1\" class=\"dataframe\">\n",
       "  <thead>\n",
       "    <tr style=\"text-align: right;\">\n",
       "      <th></th>\n",
       "      <th>aluminium</th>\n",
       "      <th>ammonia</th>\n",
       "      <th>arsenic</th>\n",
       "      <th>barium</th>\n",
       "      <th>cadmium</th>\n",
       "      <th>chloramine</th>\n",
       "      <th>chromium</th>\n",
       "      <th>copper</th>\n",
       "      <th>flouride</th>\n",
       "      <th>bacteria</th>\n",
       "      <th>...</th>\n",
       "      <th>lead</th>\n",
       "      <th>nitrates</th>\n",
       "      <th>nitrites</th>\n",
       "      <th>mercury</th>\n",
       "      <th>perchlorate</th>\n",
       "      <th>radium</th>\n",
       "      <th>selenium</th>\n",
       "      <th>silver</th>\n",
       "      <th>uranium</th>\n",
       "      <th>is_safe</th>\n",
       "    </tr>\n",
       "  </thead>\n",
       "  <tbody>\n",
       "  </tbody>\n",
       "</table>\n",
       "<p>0 rows × 21 columns</p>\n",
       "</div>"
      ],
      "text/plain": [
       "Empty DataFrame\n",
       "Columns: [aluminium, ammonia, arsenic, barium, cadmium, chloramine, chromium, copper, flouride, bacteria, viruses, lead, nitrates, nitrites, mercury, perchlorate, radium, selenium, silver, uranium, is_safe]\n",
       "Index: []\n",
       "\n",
       "[0 rows x 21 columns]"
      ]
     },
     "execution_count": 38,
     "metadata": {},
     "output_type": "execute_result"
    }
   ],
   "source": [
    "df.loc[df['aluminium']>ub]"
   ]
  },
  {
   "cell_type": "code",
   "execution_count": 39,
   "id": "e8e3ac55-eebe-48fb-9f11-5883a10e379a",
   "metadata": {},
   "outputs": [
    {
     "name": "stdout",
     "output_type": "stream",
     "text": [
      "q1 0.03\n",
      "q3 0.1\n",
      "iqr 0.07\n",
      "upper_tail 0.20500000000000002\n",
      "lower_tail -0.07500000000000001\n"
     ]
    }
   ],
   "source": [
    "# arsenic\n",
    "\n",
    "q1=df['arsenic'].quantile(0.25)\n",
    "q3=df['arsenic'].quantile(0.75)\n",
    "iqr=q3-q1\n",
    "ub=q3+(1.5*iqr)\n",
    "lb=q1-(1.5*iqr)\n",
    "print(\"q1\",q1)\n",
    "print(\"q3\",q3)\n",
    "print(\"iqr\",iqr)\n",
    "print(\"upper_tail\",ub)\n",
    "print(\"lower_tail\",lb)"
   ]
  },
  {
   "cell_type": "code",
   "execution_count": 40,
   "id": "9327d7d5-d621-4d3a-8951-b0f6a53af360",
   "metadata": {},
   "outputs": [],
   "source": [
    "#df.loc[df['arsenic']>ub]"
   ]
  },
  {
   "cell_type": "code",
   "execution_count": 41,
   "id": "465583a5-e351-4917-a3be-335d53cb2521",
   "metadata": {},
   "outputs": [],
   "source": [
    "df.loc[df['arsenic']>ub,'arsenic']=ub"
   ]
  },
  {
   "cell_type": "code",
   "execution_count": 42,
   "id": "9413929c-1800-4b6c-989b-2bb03bee248b",
   "metadata": {},
   "outputs": [
    {
     "data": {
      "text/html": [
       "<div>\n",
       "<style scoped>\n",
       "    .dataframe tbody tr th:only-of-type {\n",
       "        vertical-align: middle;\n",
       "    }\n",
       "\n",
       "    .dataframe tbody tr th {\n",
       "        vertical-align: top;\n",
       "    }\n",
       "\n",
       "    .dataframe thead th {\n",
       "        text-align: right;\n",
       "    }\n",
       "</style>\n",
       "<table border=\"1\" class=\"dataframe\">\n",
       "  <thead>\n",
       "    <tr style=\"text-align: right;\">\n",
       "      <th></th>\n",
       "      <th>aluminium</th>\n",
       "      <th>ammonia</th>\n",
       "      <th>arsenic</th>\n",
       "      <th>barium</th>\n",
       "      <th>cadmium</th>\n",
       "      <th>chloramine</th>\n",
       "      <th>chromium</th>\n",
       "      <th>copper</th>\n",
       "      <th>flouride</th>\n",
       "      <th>bacteria</th>\n",
       "      <th>...</th>\n",
       "      <th>lead</th>\n",
       "      <th>nitrates</th>\n",
       "      <th>nitrites</th>\n",
       "      <th>mercury</th>\n",
       "      <th>perchlorate</th>\n",
       "      <th>radium</th>\n",
       "      <th>selenium</th>\n",
       "      <th>silver</th>\n",
       "      <th>uranium</th>\n",
       "      <th>is_safe</th>\n",
       "    </tr>\n",
       "  </thead>\n",
       "  <tbody>\n",
       "  </tbody>\n",
       "</table>\n",
       "<p>0 rows × 21 columns</p>\n",
       "</div>"
      ],
      "text/plain": [
       "Empty DataFrame\n",
       "Columns: [aluminium, ammonia, arsenic, barium, cadmium, chloramine, chromium, copper, flouride, bacteria, viruses, lead, nitrates, nitrites, mercury, perchlorate, radium, selenium, silver, uranium, is_safe]\n",
       "Index: []\n",
       "\n",
       "[0 rows x 21 columns]"
      ]
     },
     "execution_count": 42,
     "metadata": {},
     "output_type": "execute_result"
    }
   ],
   "source": [
    "df.loc[df['arsenic']>ub]"
   ]
  },
  {
   "cell_type": "code",
   "execution_count": 43,
   "id": "3e319fb1-302d-454b-833c-d10886eff081",
   "metadata": {},
   "outputs": [
    {
     "name": "stdout",
     "output_type": "stream",
     "text": [
      "q1 1.0\n",
      "q3 1.76\n",
      "iqr 0.76\n",
      "upper_tail 2.9000000000000004\n",
      "lower_tail -0.14000000000000012\n"
     ]
    }
   ],
   "source": [
    "# nitrites\n",
    "\n",
    "q1=df['nitrites'].quantile(0.25)\n",
    "q3=df['nitrites'].quantile(0.75)\n",
    "iqr=q3-q1\n",
    "ub=q3+(1.5*iqr)\n",
    "lb=q1-(1.5*iqr)\n",
    "print(\"q1\",q1)\n",
    "print(\"q3\",q3)\n",
    "print(\"iqr\",iqr)\n",
    "print(\"upper_tail\",ub)\n",
    "print(\"lower_tail\",lb)"
   ]
  },
  {
   "cell_type": "code",
   "execution_count": 44,
   "id": "89313a55-898e-48bb-8e22-89d8e5f40767",
   "metadata": {},
   "outputs": [
    {
     "data": {
      "text/html": [
       "<div>\n",
       "<style scoped>\n",
       "    .dataframe tbody tr th:only-of-type {\n",
       "        vertical-align: middle;\n",
       "    }\n",
       "\n",
       "    .dataframe tbody tr th {\n",
       "        vertical-align: top;\n",
       "    }\n",
       "\n",
       "    .dataframe thead th {\n",
       "        text-align: right;\n",
       "    }\n",
       "</style>\n",
       "<table border=\"1\" class=\"dataframe\">\n",
       "  <thead>\n",
       "    <tr style=\"text-align: right;\">\n",
       "      <th></th>\n",
       "      <th>aluminium</th>\n",
       "      <th>ammonia</th>\n",
       "      <th>arsenic</th>\n",
       "      <th>barium</th>\n",
       "      <th>cadmium</th>\n",
       "      <th>chloramine</th>\n",
       "      <th>chromium</th>\n",
       "      <th>copper</th>\n",
       "      <th>flouride</th>\n",
       "      <th>bacteria</th>\n",
       "      <th>...</th>\n",
       "      <th>lead</th>\n",
       "      <th>nitrates</th>\n",
       "      <th>nitrites</th>\n",
       "      <th>mercury</th>\n",
       "      <th>perchlorate</th>\n",
       "      <th>radium</th>\n",
       "      <th>selenium</th>\n",
       "      <th>silver</th>\n",
       "      <th>uranium</th>\n",
       "      <th>is_safe</th>\n",
       "    </tr>\n",
       "  </thead>\n",
       "  <tbody>\n",
       "    <tr>\n",
       "      <th>3293</th>\n",
       "      <td>0.03</td>\n",
       "      <td>0.95</td>\n",
       "      <td>0.205</td>\n",
       "      <td>3.28</td>\n",
       "      <td>0.11</td>\n",
       "      <td>1.95</td>\n",
       "      <td>0.04</td>\n",
       "      <td>0.14</td>\n",
       "      <td>0.77</td>\n",
       "      <td>0.24</td>\n",
       "      <td>...</td>\n",
       "      <td>0.062</td>\n",
       "      <td>13.92</td>\n",
       "      <td>2.92</td>\n",
       "      <td>0.005</td>\n",
       "      <td>24.91</td>\n",
       "      <td>0.99</td>\n",
       "      <td>0.08</td>\n",
       "      <td>0.49</td>\n",
       "      <td>0.08</td>\n",
       "      <td>0</td>\n",
       "    </tr>\n",
       "    <tr>\n",
       "      <th>7536</th>\n",
       "      <td>0.04</td>\n",
       "      <td>15.89</td>\n",
       "      <td>0.030</td>\n",
       "      <td>1.86</td>\n",
       "      <td>0.08</td>\n",
       "      <td>0.19</td>\n",
       "      <td>0.02</td>\n",
       "      <td>0.61</td>\n",
       "      <td>0.35</td>\n",
       "      <td>0.00</td>\n",
       "      <td>...</td>\n",
       "      <td>0.132</td>\n",
       "      <td>8.39</td>\n",
       "      <td>2.93</td>\n",
       "      <td>0.000</td>\n",
       "      <td>2.23</td>\n",
       "      <td>5.57</td>\n",
       "      <td>0.03</td>\n",
       "      <td>0.07</td>\n",
       "      <td>0.01</td>\n",
       "      <td>0</td>\n",
       "    </tr>\n",
       "  </tbody>\n",
       "</table>\n",
       "<p>2 rows × 21 columns</p>\n",
       "</div>"
      ],
      "text/plain": [
       "      aluminium  ammonia  arsenic  barium  cadmium  chloramine  chromium  \\\n",
       "3293       0.03     0.95    0.205    3.28     0.11        1.95      0.04   \n",
       "7536       0.04    15.89    0.030    1.86     0.08        0.19      0.02   \n",
       "\n",
       "      copper  flouride  bacteria  ...   lead  nitrates  nitrites  mercury  \\\n",
       "3293    0.14      0.77      0.24  ...  0.062     13.92      2.92    0.005   \n",
       "7536    0.61      0.35      0.00  ...  0.132      8.39      2.93    0.000   \n",
       "\n",
       "      perchlorate  radium  selenium  silver  uranium  is_safe  \n",
       "3293        24.91    0.99      0.08    0.49     0.08        0  \n",
       "7536         2.23    5.57      0.03    0.07     0.01        0  \n",
       "\n",
       "[2 rows x 21 columns]"
      ]
     },
     "execution_count": 44,
     "metadata": {},
     "output_type": "execute_result"
    }
   ],
   "source": [
    "df.loc[df['nitrites']>ub]"
   ]
  },
  {
   "cell_type": "code",
   "execution_count": 45,
   "id": "1e2750a8-5fc9-4d2b-8879-f476ec806aa6",
   "metadata": {},
   "outputs": [],
   "source": [
    "df.loc[df['nitrites']>ub,'nitrites']=ub"
   ]
  },
  {
   "cell_type": "code",
   "execution_count": 46,
   "id": "556fadf8-81c1-4de4-a5e5-130743b8e5c2",
   "metadata": {},
   "outputs": [
    {
     "data": {
      "text/html": [
       "<div>\n",
       "<style scoped>\n",
       "    .dataframe tbody tr th:only-of-type {\n",
       "        vertical-align: middle;\n",
       "    }\n",
       "\n",
       "    .dataframe tbody tr th {\n",
       "        vertical-align: top;\n",
       "    }\n",
       "\n",
       "    .dataframe thead th {\n",
       "        text-align: right;\n",
       "    }\n",
       "</style>\n",
       "<table border=\"1\" class=\"dataframe\">\n",
       "  <thead>\n",
       "    <tr style=\"text-align: right;\">\n",
       "      <th></th>\n",
       "      <th>aluminium</th>\n",
       "      <th>ammonia</th>\n",
       "      <th>arsenic</th>\n",
       "      <th>barium</th>\n",
       "      <th>cadmium</th>\n",
       "      <th>chloramine</th>\n",
       "      <th>chromium</th>\n",
       "      <th>copper</th>\n",
       "      <th>flouride</th>\n",
       "      <th>bacteria</th>\n",
       "      <th>...</th>\n",
       "      <th>lead</th>\n",
       "      <th>nitrates</th>\n",
       "      <th>nitrites</th>\n",
       "      <th>mercury</th>\n",
       "      <th>perchlorate</th>\n",
       "      <th>radium</th>\n",
       "      <th>selenium</th>\n",
       "      <th>silver</th>\n",
       "      <th>uranium</th>\n",
       "      <th>is_safe</th>\n",
       "    </tr>\n",
       "  </thead>\n",
       "  <tbody>\n",
       "  </tbody>\n",
       "</table>\n",
       "<p>0 rows × 21 columns</p>\n",
       "</div>"
      ],
      "text/plain": [
       "Empty DataFrame\n",
       "Columns: [aluminium, ammonia, arsenic, barium, cadmium, chloramine, chromium, copper, flouride, bacteria, viruses, lead, nitrates, nitrites, mercury, perchlorate, radium, selenium, silver, uranium, is_safe]\n",
       "Index: []\n",
       "\n",
       "[0 rows x 21 columns]"
      ]
     },
     "execution_count": 46,
     "metadata": {},
     "output_type": "execute_result"
    }
   ],
   "source": [
    "df.loc[df['nitrites']>ub]"
   ]
  },
  {
   "cell_type": "markdown",
   "id": "78d3aca9-56a8-46bc-9a75-00d1f6d49c3b",
   "metadata": {},
   "source": [
    "Ensure that the dataset is clean and ready for further analysis."
   ]
  },
  {
   "cell_type": "code",
   "execution_count": 48,
   "id": "a0bff542-236b-4225-98be-de9823fecf24",
   "metadata": {},
   "outputs": [],
   "source": [
    "#for i in a:\n",
    "    #plt.boxplot(x=df[i])\n",
    "    #plt.title(i)\n",
    "    #plt.show()"
   ]
  },
  {
   "cell_type": "markdown",
   "id": "76aebbe0-4900-4056-a15f-3d37f51b83cb",
   "metadata": {},
   "source": [
    "Understand the characteristics of  water samples."
   ]
  },
  {
   "cell_type": "code",
   "execution_count": 50,
   "id": "29fd24bd-7510-4e1d-8187-a92c75f5405c",
   "metadata": {},
   "outputs": [
    {
     "data": {
      "text/html": [
       "<div>\n",
       "<style scoped>\n",
       "    .dataframe tbody tr th:only-of-type {\n",
       "        vertical-align: middle;\n",
       "    }\n",
       "\n",
       "    .dataframe tbody tr th {\n",
       "        vertical-align: top;\n",
       "    }\n",
       "\n",
       "    .dataframe thead th {\n",
       "        text-align: right;\n",
       "    }\n",
       "</style>\n",
       "<table border=\"1\" class=\"dataframe\">\n",
       "  <thead>\n",
       "    <tr style=\"text-align: right;\">\n",
       "      <th></th>\n",
       "      <th>aluminium</th>\n",
       "      <th>ammonia</th>\n",
       "      <th>arsenic</th>\n",
       "      <th>barium</th>\n",
       "      <th>cadmium</th>\n",
       "      <th>chloramine</th>\n",
       "      <th>chromium</th>\n",
       "      <th>copper</th>\n",
       "      <th>flouride</th>\n",
       "      <th>bacteria</th>\n",
       "      <th>...</th>\n",
       "      <th>lead</th>\n",
       "      <th>nitrates</th>\n",
       "      <th>nitrites</th>\n",
       "      <th>mercury</th>\n",
       "      <th>perchlorate</th>\n",
       "      <th>radium</th>\n",
       "      <th>selenium</th>\n",
       "      <th>silver</th>\n",
       "      <th>uranium</th>\n",
       "      <th>is_safe</th>\n",
       "    </tr>\n",
       "  </thead>\n",
       "  <tbody>\n",
       "    <tr>\n",
       "      <th>count</th>\n",
       "      <td>912.000000</td>\n",
       "      <td>912.000000</td>\n",
       "      <td>912.000000</td>\n",
       "      <td>912.000000</td>\n",
       "      <td>912.000000</td>\n",
       "      <td>912.000000</td>\n",
       "      <td>912.000000</td>\n",
       "      <td>912.000000</td>\n",
       "      <td>912.000000</td>\n",
       "      <td>912.000000</td>\n",
       "      <td>...</td>\n",
       "      <td>912.000000</td>\n",
       "      <td>912.000000</td>\n",
       "      <td>912.000000</td>\n",
       "      <td>912.000000</td>\n",
       "      <td>912.000000</td>\n",
       "      <td>912.000000</td>\n",
       "      <td>912.000000</td>\n",
       "      <td>912.000000</td>\n",
       "      <td>912.000000</td>\n",
       "      <td>912.0</td>\n",
       "    </tr>\n",
       "    <tr>\n",
       "      <th>mean</th>\n",
       "      <td>0.472171</td>\n",
       "      <td>13.711096</td>\n",
       "      <td>0.045907</td>\n",
       "      <td>1.875888</td>\n",
       "      <td>0.017081</td>\n",
       "      <td>3.513355</td>\n",
       "      <td>0.384814</td>\n",
       "      <td>0.859671</td>\n",
       "      <td>0.779594</td>\n",
       "      <td>0.299441</td>\n",
       "      <td>...</td>\n",
       "      <td>0.097815</td>\n",
       "      <td>8.705680</td>\n",
       "      <td>1.404912</td>\n",
       "      <td>0.004888</td>\n",
       "      <td>20.198739</td>\n",
       "      <td>3.339211</td>\n",
       "      <td>0.047204</td>\n",
       "      <td>0.188947</td>\n",
       "      <td>0.039002</td>\n",
       "      <td>1.0</td>\n",
       "    </tr>\n",
       "    <tr>\n",
       "      <th>std</th>\n",
       "      <td>0.248715</td>\n",
       "      <td>8.634490</td>\n",
       "      <td>0.054629</td>\n",
       "      <td>1.203775</td>\n",
       "      <td>0.028027</td>\n",
       "      <td>2.448520</td>\n",
       "      <td>0.276194</td>\n",
       "      <td>0.627925</td>\n",
       "      <td>0.428040</td>\n",
       "      <td>0.319688</td>\n",
       "      <td>...</td>\n",
       "      <td>0.056840</td>\n",
       "      <td>5.593115</td>\n",
       "      <td>0.439214</td>\n",
       "      <td>0.003032</td>\n",
       "      <td>14.396278</td>\n",
       "      <td>2.287693</td>\n",
       "      <td>0.028504</td>\n",
       "      <td>0.153655</td>\n",
       "      <td>0.026744</td>\n",
       "      <td>0.0</td>\n",
       "    </tr>\n",
       "    <tr>\n",
       "      <th>min</th>\n",
       "      <td>0.000000</td>\n",
       "      <td>-0.010000</td>\n",
       "      <td>0.000000</td>\n",
       "      <td>0.000000</td>\n",
       "      <td>0.000000</td>\n",
       "      <td>0.000000</td>\n",
       "      <td>0.000000</td>\n",
       "      <td>0.000000</td>\n",
       "      <td>0.000000</td>\n",
       "      <td>0.000000</td>\n",
       "      <td>...</td>\n",
       "      <td>0.000000</td>\n",
       "      <td>0.000000</td>\n",
       "      <td>0.000000</td>\n",
       "      <td>0.000000</td>\n",
       "      <td>0.000000</td>\n",
       "      <td>0.000000</td>\n",
       "      <td>0.000000</td>\n",
       "      <td>0.000000</td>\n",
       "      <td>0.000000</td>\n",
       "      <td>1.0</td>\n",
       "    </tr>\n",
       "    <tr>\n",
       "      <th>25%</th>\n",
       "      <td>0.220000</td>\n",
       "      <td>6.447500</td>\n",
       "      <td>0.020000</td>\n",
       "      <td>0.797500</td>\n",
       "      <td>0.003000</td>\n",
       "      <td>1.252500</td>\n",
       "      <td>0.110000</td>\n",
       "      <td>0.267500</td>\n",
       "      <td>0.430000</td>\n",
       "      <td>0.000000</td>\n",
       "      <td>...</td>\n",
       "      <td>0.048000</td>\n",
       "      <td>3.770000</td>\n",
       "      <td>1.167500</td>\n",
       "      <td>0.002000</td>\n",
       "      <td>7.675000</td>\n",
       "      <td>1.265000</td>\n",
       "      <td>0.020000</td>\n",
       "      <td>0.050000</td>\n",
       "      <td>0.020000</td>\n",
       "      <td>1.0</td>\n",
       "    </tr>\n",
       "    <tr>\n",
       "      <th>50%</th>\n",
       "      <td>0.640000</td>\n",
       "      <td>12.470000</td>\n",
       "      <td>0.030000</td>\n",
       "      <td>1.740000</td>\n",
       "      <td>0.006000</td>\n",
       "      <td>3.435000</td>\n",
       "      <td>0.360000</td>\n",
       "      <td>0.810000</td>\n",
       "      <td>0.785000</td>\n",
       "      <td>0.200000</td>\n",
       "      <td>...</td>\n",
       "      <td>0.101500</td>\n",
       "      <td>8.120000</td>\n",
       "      <td>1.450000</td>\n",
       "      <td>0.005000</td>\n",
       "      <td>18.160000</td>\n",
       "      <td>3.190000</td>\n",
       "      <td>0.050000</td>\n",
       "      <td>0.130000</td>\n",
       "      <td>0.030000</td>\n",
       "      <td>1.0</td>\n",
       "    </tr>\n",
       "    <tr>\n",
       "      <th>75%</th>\n",
       "      <td>0.640000</td>\n",
       "      <td>21.192500</td>\n",
       "      <td>0.040000</td>\n",
       "      <td>2.890000</td>\n",
       "      <td>0.009000</td>\n",
       "      <td>5.640000</td>\n",
       "      <td>0.620000</td>\n",
       "      <td>1.420000</td>\n",
       "      <td>1.142500</td>\n",
       "      <td>0.580000</td>\n",
       "      <td>...</td>\n",
       "      <td>0.147000</td>\n",
       "      <td>13.637500</td>\n",
       "      <td>1.730000</td>\n",
       "      <td>0.007000</td>\n",
       "      <td>30.587500</td>\n",
       "      <td>4.890000</td>\n",
       "      <td>0.070000</td>\n",
       "      <td>0.320000</td>\n",
       "      <td>0.060000</td>\n",
       "      <td>1.0</td>\n",
       "    </tr>\n",
       "    <tr>\n",
       "      <th>max</th>\n",
       "      <td>0.640000</td>\n",
       "      <td>29.800000</td>\n",
       "      <td>0.205000</td>\n",
       "      <td>4.530000</td>\n",
       "      <td>0.130000</td>\n",
       "      <td>8.660000</td>\n",
       "      <td>0.900000</td>\n",
       "      <td>1.990000</td>\n",
       "      <td>1.500000</td>\n",
       "      <td>1.000000</td>\n",
       "      <td>...</td>\n",
       "      <td>0.200000</td>\n",
       "      <td>19.750000</td>\n",
       "      <td>2.730000</td>\n",
       "      <td>0.010000</td>\n",
       "      <td>57.000000</td>\n",
       "      <td>7.930000</td>\n",
       "      <td>0.100000</td>\n",
       "      <td>0.500000</td>\n",
       "      <td>0.090000</td>\n",
       "      <td>1.0</td>\n",
       "    </tr>\n",
       "  </tbody>\n",
       "</table>\n",
       "<p>8 rows × 21 columns</p>\n",
       "</div>"
      ],
      "text/plain": [
       "        aluminium     ammonia     arsenic      barium     cadmium  chloramine  \\\n",
       "count  912.000000  912.000000  912.000000  912.000000  912.000000  912.000000   \n",
       "mean     0.472171   13.711096    0.045907    1.875888    0.017081    3.513355   \n",
       "std      0.248715    8.634490    0.054629    1.203775    0.028027    2.448520   \n",
       "min      0.000000   -0.010000    0.000000    0.000000    0.000000    0.000000   \n",
       "25%      0.220000    6.447500    0.020000    0.797500    0.003000    1.252500   \n",
       "50%      0.640000   12.470000    0.030000    1.740000    0.006000    3.435000   \n",
       "75%      0.640000   21.192500    0.040000    2.890000    0.009000    5.640000   \n",
       "max      0.640000   29.800000    0.205000    4.530000    0.130000    8.660000   \n",
       "\n",
       "         chromium      copper    flouride    bacteria  ...        lead  \\\n",
       "count  912.000000  912.000000  912.000000  912.000000  ...  912.000000   \n",
       "mean     0.384814    0.859671    0.779594    0.299441  ...    0.097815   \n",
       "std      0.276194    0.627925    0.428040    0.319688  ...    0.056840   \n",
       "min      0.000000    0.000000    0.000000    0.000000  ...    0.000000   \n",
       "25%      0.110000    0.267500    0.430000    0.000000  ...    0.048000   \n",
       "50%      0.360000    0.810000    0.785000    0.200000  ...    0.101500   \n",
       "75%      0.620000    1.420000    1.142500    0.580000  ...    0.147000   \n",
       "max      0.900000    1.990000    1.500000    1.000000  ...    0.200000   \n",
       "\n",
       "         nitrates    nitrites     mercury  perchlorate      radium  \\\n",
       "count  912.000000  912.000000  912.000000   912.000000  912.000000   \n",
       "mean     8.705680    1.404912    0.004888    20.198739    3.339211   \n",
       "std      5.593115    0.439214    0.003032    14.396278    2.287693   \n",
       "min      0.000000    0.000000    0.000000     0.000000    0.000000   \n",
       "25%      3.770000    1.167500    0.002000     7.675000    1.265000   \n",
       "50%      8.120000    1.450000    0.005000    18.160000    3.190000   \n",
       "75%     13.637500    1.730000    0.007000    30.587500    4.890000   \n",
       "max     19.750000    2.730000    0.010000    57.000000    7.930000   \n",
       "\n",
       "         selenium      silver     uranium  is_safe  \n",
       "count  912.000000  912.000000  912.000000    912.0  \n",
       "mean     0.047204    0.188947    0.039002      1.0  \n",
       "std      0.028504    0.153655    0.026744      0.0  \n",
       "min      0.000000    0.000000    0.000000      1.0  \n",
       "25%      0.020000    0.050000    0.020000      1.0  \n",
       "50%      0.050000    0.130000    0.030000      1.0  \n",
       "75%      0.070000    0.320000    0.060000      1.0  \n",
       "max      0.100000    0.500000    0.090000      1.0  \n",
       "\n",
       "[8 rows x 21 columns]"
      ]
     },
     "execution_count": 50,
     "metadata": {},
     "output_type": "execute_result"
    }
   ],
   "source": [
    "df[df['is_safe'] == 1].describe()"
   ]
  },
  {
   "cell_type": "code",
   "execution_count": 51,
   "id": "3bc576ea-e16f-4d53-849e-73ab163494da",
   "metadata": {},
   "outputs": [
    {
     "data": {
      "text/html": [
       "<div>\n",
       "<style scoped>\n",
       "    .dataframe tbody tr th:only-of-type {\n",
       "        vertical-align: middle;\n",
       "    }\n",
       "\n",
       "    .dataframe tbody tr th {\n",
       "        vertical-align: top;\n",
       "    }\n",
       "\n",
       "    .dataframe thead th {\n",
       "        text-align: right;\n",
       "    }\n",
       "</style>\n",
       "<table border=\"1\" class=\"dataframe\">\n",
       "  <thead>\n",
       "    <tr style=\"text-align: right;\">\n",
       "      <th></th>\n",
       "      <th>aluminium</th>\n",
       "      <th>ammonia</th>\n",
       "      <th>arsenic</th>\n",
       "      <th>barium</th>\n",
       "      <th>cadmium</th>\n",
       "      <th>chloramine</th>\n",
       "      <th>chromium</th>\n",
       "      <th>copper</th>\n",
       "      <th>flouride</th>\n",
       "      <th>bacteria</th>\n",
       "      <th>...</th>\n",
       "      <th>lead</th>\n",
       "      <th>nitrates</th>\n",
       "      <th>nitrites</th>\n",
       "      <th>mercury</th>\n",
       "      <th>perchlorate</th>\n",
       "      <th>radium</th>\n",
       "      <th>selenium</th>\n",
       "      <th>silver</th>\n",
       "      <th>uranium</th>\n",
       "      <th>is_safe</th>\n",
       "    </tr>\n",
       "  </thead>\n",
       "  <tbody>\n",
       "    <tr>\n",
       "      <th>count</th>\n",
       "      <td>7084.000000</td>\n",
       "      <td>7084.000000</td>\n",
       "      <td>7084.000000</td>\n",
       "      <td>7084.000000</td>\n",
       "      <td>7084.000000</td>\n",
       "      <td>7084.000000</td>\n",
       "      <td>7084.000000</td>\n",
       "      <td>7084.000000</td>\n",
       "      <td>7084.000000</td>\n",
       "      <td>7084.000000</td>\n",
       "      <td>...</td>\n",
       "      <td>7084.000000</td>\n",
       "      <td>7084.000000</td>\n",
       "      <td>7084.000000</td>\n",
       "      <td>7084.000000</td>\n",
       "      <td>7084.000000</td>\n",
       "      <td>7084.000000</td>\n",
       "      <td>7084.000000</td>\n",
       "      <td>7084.000000</td>\n",
       "      <td>7084.000000</td>\n",
       "      <td>7084.0</td>\n",
       "    </tr>\n",
       "    <tr>\n",
       "      <th>mean</th>\n",
       "      <td>0.163134</td>\n",
       "      <td>14.351222</td>\n",
       "      <td>0.082851</td>\n",
       "      <td>1.528281</td>\n",
       "      <td>0.046115</td>\n",
       "      <td>2.005621</td>\n",
       "      <td>0.229596</td>\n",
       "      <td>0.799023</td>\n",
       "      <td>0.770623</td>\n",
       "      <td>0.322324</td>\n",
       "      <td>...</td>\n",
       "      <td>0.099639</td>\n",
       "      <td>9.962612</td>\n",
       "      <td>1.320175</td>\n",
       "      <td>0.005232</td>\n",
       "      <td>15.984616</td>\n",
       "      <td>2.866150</td>\n",
       "      <td>0.050003</td>\n",
       "      <td>0.142516</td>\n",
       "      <td>0.045402</td>\n",
       "      <td>0.0</td>\n",
       "    </tr>\n",
       "    <tr>\n",
       "      <th>std</th>\n",
       "      <td>0.220234</td>\n",
       "      <td>8.907884</td>\n",
       "      <td>0.071755</td>\n",
       "      <td>1.212233</td>\n",
       "      <td>0.035633</td>\n",
       "      <td>2.531550</td>\n",
       "      <td>0.264824</td>\n",
       "      <td>0.656550</td>\n",
       "      <td>0.436384</td>\n",
       "      <td>0.330670</td>\n",
       "      <td>...</td>\n",
       "      <td>0.058338</td>\n",
       "      <td>5.519455</td>\n",
       "      <td>0.587624</td>\n",
       "      <td>0.002957</td>\n",
       "      <td>18.013894</td>\n",
       "      <td>2.321956</td>\n",
       "      <td>0.028794</td>\n",
       "      <td>0.141363</td>\n",
       "      <td>0.026842</td>\n",
       "      <td>0.0</td>\n",
       "    </tr>\n",
       "    <tr>\n",
       "      <th>min</th>\n",
       "      <td>0.000000</td>\n",
       "      <td>-0.080000</td>\n",
       "      <td>0.000000</td>\n",
       "      <td>0.000000</td>\n",
       "      <td>0.000000</td>\n",
       "      <td>0.000000</td>\n",
       "      <td>0.000000</td>\n",
       "      <td>0.000000</td>\n",
       "      <td>0.000000</td>\n",
       "      <td>0.000000</td>\n",
       "      <td>...</td>\n",
       "      <td>0.001000</td>\n",
       "      <td>0.010000</td>\n",
       "      <td>0.000000</td>\n",
       "      <td>0.000000</td>\n",
       "      <td>0.000000</td>\n",
       "      <td>0.000000</td>\n",
       "      <td>0.000000</td>\n",
       "      <td>0.000000</td>\n",
       "      <td>0.000000</td>\n",
       "      <td>0.0</td>\n",
       "    </tr>\n",
       "    <tr>\n",
       "      <th>25%</th>\n",
       "      <td>0.030000</td>\n",
       "      <td>6.600000</td>\n",
       "      <td>0.030000</td>\n",
       "      <td>0.530000</td>\n",
       "      <td>0.010000</td>\n",
       "      <td>0.090000</td>\n",
       "      <td>0.040000</td>\n",
       "      <td>0.090000</td>\n",
       "      <td>0.400000</td>\n",
       "      <td>0.000000</td>\n",
       "      <td>...</td>\n",
       "      <td>0.048000</td>\n",
       "      <td>5.230000</td>\n",
       "      <td>0.960000</td>\n",
       "      <td>0.003000</td>\n",
       "      <td>1.920000</td>\n",
       "      <td>0.790000</td>\n",
       "      <td>0.030000</td>\n",
       "      <td>0.040000</td>\n",
       "      <td>0.020000</td>\n",
       "      <td>0.0</td>\n",
       "    </tr>\n",
       "    <tr>\n",
       "      <th>50%</th>\n",
       "      <td>0.070000</td>\n",
       "      <td>14.340000</td>\n",
       "      <td>0.060000</td>\n",
       "      <td>1.100000</td>\n",
       "      <td>0.040000</td>\n",
       "      <td>0.410000</td>\n",
       "      <td>0.080000</td>\n",
       "      <td>0.740000</td>\n",
       "      <td>0.760000</td>\n",
       "      <td>0.220000</td>\n",
       "      <td>...</td>\n",
       "      <td>0.102000</td>\n",
       "      <td>10.190000</td>\n",
       "      <td>1.410000</td>\n",
       "      <td>0.005000</td>\n",
       "      <td>6.785000</td>\n",
       "      <td>2.350000</td>\n",
       "      <td>0.050000</td>\n",
       "      <td>0.080000</td>\n",
       "      <td>0.050000</td>\n",
       "      <td>0.0</td>\n",
       "    </tr>\n",
       "    <tr>\n",
       "      <th>75%</th>\n",
       "      <td>0.110000</td>\n",
       "      <td>22.240000</td>\n",
       "      <td>0.100000</td>\n",
       "      <td>2.420000</td>\n",
       "      <td>0.080000</td>\n",
       "      <td>3.842500</td>\n",
       "      <td>0.400000</td>\n",
       "      <td>1.390000</td>\n",
       "      <td>1.160000</td>\n",
       "      <td>0.610000</td>\n",
       "      <td>...</td>\n",
       "      <td>0.151000</td>\n",
       "      <td>14.680000</td>\n",
       "      <td>1.770000</td>\n",
       "      <td>0.008000</td>\n",
       "      <td>29.167500</td>\n",
       "      <td>4.620000</td>\n",
       "      <td>0.070000</td>\n",
       "      <td>0.230000</td>\n",
       "      <td>0.070000</td>\n",
       "      <td>0.0</td>\n",
       "    </tr>\n",
       "    <tr>\n",
       "      <th>max</th>\n",
       "      <td>0.640000</td>\n",
       "      <td>29.840000</td>\n",
       "      <td>0.205000</td>\n",
       "      <td>4.940000</td>\n",
       "      <td>0.130000</td>\n",
       "      <td>8.680000</td>\n",
       "      <td>0.900000</td>\n",
       "      <td>2.000000</td>\n",
       "      <td>1.500000</td>\n",
       "      <td>1.000000</td>\n",
       "      <td>...</td>\n",
       "      <td>0.200000</td>\n",
       "      <td>19.830000</td>\n",
       "      <td>2.900000</td>\n",
       "      <td>0.010000</td>\n",
       "      <td>60.010000</td>\n",
       "      <td>7.990000</td>\n",
       "      <td>0.100000</td>\n",
       "      <td>0.500000</td>\n",
       "      <td>0.090000</td>\n",
       "      <td>0.0</td>\n",
       "    </tr>\n",
       "  </tbody>\n",
       "</table>\n",
       "<p>8 rows × 21 columns</p>\n",
       "</div>"
      ],
      "text/plain": [
       "         aluminium      ammonia      arsenic       barium      cadmium  \\\n",
       "count  7084.000000  7084.000000  7084.000000  7084.000000  7084.000000   \n",
       "mean      0.163134    14.351222     0.082851     1.528281     0.046115   \n",
       "std       0.220234     8.907884     0.071755     1.212233     0.035633   \n",
       "min       0.000000    -0.080000     0.000000     0.000000     0.000000   \n",
       "25%       0.030000     6.600000     0.030000     0.530000     0.010000   \n",
       "50%       0.070000    14.340000     0.060000     1.100000     0.040000   \n",
       "75%       0.110000    22.240000     0.100000     2.420000     0.080000   \n",
       "max       0.640000    29.840000     0.205000     4.940000     0.130000   \n",
       "\n",
       "        chloramine     chromium       copper     flouride     bacteria  ...  \\\n",
       "count  7084.000000  7084.000000  7084.000000  7084.000000  7084.000000  ...   \n",
       "mean      2.005621     0.229596     0.799023     0.770623     0.322324  ...   \n",
       "std       2.531550     0.264824     0.656550     0.436384     0.330670  ...   \n",
       "min       0.000000     0.000000     0.000000     0.000000     0.000000  ...   \n",
       "25%       0.090000     0.040000     0.090000     0.400000     0.000000  ...   \n",
       "50%       0.410000     0.080000     0.740000     0.760000     0.220000  ...   \n",
       "75%       3.842500     0.400000     1.390000     1.160000     0.610000  ...   \n",
       "max       8.680000     0.900000     2.000000     1.500000     1.000000  ...   \n",
       "\n",
       "              lead     nitrates     nitrites      mercury  perchlorate  \\\n",
       "count  7084.000000  7084.000000  7084.000000  7084.000000  7084.000000   \n",
       "mean      0.099639     9.962612     1.320175     0.005232    15.984616   \n",
       "std       0.058338     5.519455     0.587624     0.002957    18.013894   \n",
       "min       0.001000     0.010000     0.000000     0.000000     0.000000   \n",
       "25%       0.048000     5.230000     0.960000     0.003000     1.920000   \n",
       "50%       0.102000    10.190000     1.410000     0.005000     6.785000   \n",
       "75%       0.151000    14.680000     1.770000     0.008000    29.167500   \n",
       "max       0.200000    19.830000     2.900000     0.010000    60.010000   \n",
       "\n",
       "            radium     selenium       silver      uranium  is_safe  \n",
       "count  7084.000000  7084.000000  7084.000000  7084.000000   7084.0  \n",
       "mean      2.866150     0.050003     0.142516     0.045402      0.0  \n",
       "std       2.321956     0.028794     0.141363     0.026842      0.0  \n",
       "min       0.000000     0.000000     0.000000     0.000000      0.0  \n",
       "25%       0.790000     0.030000     0.040000     0.020000      0.0  \n",
       "50%       2.350000     0.050000     0.080000     0.050000      0.0  \n",
       "75%       4.620000     0.070000     0.230000     0.070000      0.0  \n",
       "max       7.990000     0.100000     0.500000     0.090000      0.0  \n",
       "\n",
       "[8 rows x 21 columns]"
      ]
     },
     "execution_count": 51,
     "metadata": {},
     "output_type": "execute_result"
    }
   ],
   "source": [
    "df[df['is_safe'] == 0].describe()"
   ]
  },
  {
   "cell_type": "markdown",
   "id": "91fdb2b6-b3b9-46ef-9f2e-cc994cd00c62",
   "metadata": {},
   "source": [
    "***Data Visualization***"
   ]
  },
  {
   "cell_type": "markdown",
   "id": "66f9f532-ca15-4495-b37a-d5d5158cf1f5",
   "metadata": {},
   "source": [
    "To get a clear visual representation of the distribution of safe and unsafe water samples"
   ]
  },
  {
   "cell_type": "code",
   "execution_count": 54,
   "id": "e18a92ae-68ed-46c4-8d5a-0e62dd76ae6a",
   "metadata": {},
   "outputs": [
    {
     "data": {
      "image/png": "[encoded data removed]",
      "text/plain": [
       "<Figure size 640x480 with 1 Axes>"
      ]
     },
     "metadata": {},
     "output_type": "display_data"
    }
   ],
   "source": [
    "sns.countplot(data=df, x='is_safe', palette='pastel')  # Soft pastel colors\n",
    "plt.title('Count of Safe vs. Unsafe')\n",
    "plt.xlabel('Safety Status')\n",
    "plt.ylabel('Count')\n",
    "plt.show()"
   ]
  },
  {
   "cell_type": "code",
   "execution_count": 55,
   "id": "0646e93a-9a97-479b-bce8-555af2d3107c",
   "metadata": {},
   "outputs": [],
   "source": [
    "#sns.countplot(df,x='is_safe')"
   ]
  },
  {
   "cell_type": "markdown",
   "id": "ea0aa25f-342e-4932-90bb-0ab0b6be8f2b",
   "metadata": {},
   "source": [
    "Notice that we have only 912 values for safe water and 7084 for unsafe water, let's see it in a percent way."
   ]
  },
  {
   "cell_type": "markdown",
   "id": "93af0042-aaf2-4edc-97a1-fab4ebcf85f0",
   "metadata": {},
   "source": [
    "***Generate pie chart***"
   ]
  },
  {
   "cell_type": "code",
   "execution_count": 58,
   "id": "a6915505-cc05-4554-a8e4-27e67b39587b",
   "metadata": {},
   "outputs": [
    {
     "data": {
      "image/png": "[encoded data removed]",
      "text/plain": [
       "<Figure size 640x480 with 1 Axes>"
      ]
     },
     "metadata": {},
     "output_type": "display_data"
    }
   ],
   "source": [
    "df['is_safe'].value_counts().plot.pie(explode=(0, 0.1),autopct=\"%.0f%%\",   \n",
    "                                      labels=['UnSafe', 'Safe'],colors=['red', 'skyblue'], startangle=90 )\n",
    "plt.title('Water Safety Distribution')\n",
    "plt.axis('equal')  \n",
    "plt.show()"
   ]
  },
  {
   "cell_type": "code",
   "execution_count": 59,
   "id": "875a610a-2d88-4a34-8ce5-e75d40edc3ec",
   "metadata": {},
   "outputs": [
    {
     "data": {
      "image/png": "[encoded data removed]",
      "text/plain": [
       "<Figure size 800x600 with 1 Axes>"
      ]
     },
     "metadata": {},
     "output_type": "display_data"
    },
    {
     "data": {
      "image/png": "[encoded data removed]",
      "text/plain": [
       "<Figure size 800x600 with 1 Axes>"
      ]
     },
     "metadata": {},
     "output_type": "display_data"
    },
    {
     "data": {
      "image/png": "[encoded data removed]",
      "text/plain": [
       "<Figure size 800x600 with 1 Axes>"
      ]
     },
     "metadata": {},
     "output_type": "display_data"
    },
    {
     "data": {
      "image/png": "[encoded data removed]",
      "text/plain": [
       "<Figure size 800x600 with 1 Axes>"
      ]
     },
     "metadata": {},
     "output_type": "display_data"
    },
    {
     "data": {
      "image/png": "[encoded data removed]",
      "text/plain": [
       "<Figure size 800x600 with 1 Axes>"
      ]
     },
     "metadata": {},
     "output_type": "display_data"
    },
    {
     "data": {
      "image/png": "[encoded data removed]",
      "text/plain": [
       "<Figure size 800x600 with 1 Axes>"
      ]
     },
     "metadata": {},
     "output_type": "display_data"
    },
    {
     "data": {
      "image/png": "[encoded data removed]",
      "text/plain": [
       "<Figure size 800x600 with 1 Axes>"
      ]
     },
     "metadata": {},
     "output_type": "display_data"
    },
    {
     "data": {
      "image/png": "[encoded data removed]",
      "text/plain": [
       "<Figure size 800x600 with 1 Axes>"
      ]
     },
     "metadata": {},
     "output_type": "display_data"
    },
    {
     "data": {
      "image/png": "[encoded data removed]",
      "text/plain": [
       "<Figure size 800x600 with 1 Axes>"
      ]
     },
     "metadata": {},
     "output_type": "display_data"
    },
    {
     "data": {
      "image/png": "[encoded data removed]",
      "text/plain": [
       "<Figure size 800x600 with 1 Axes>"
      ]
     },
     "metadata": {},
     "output_type": "display_data"
    },
    {
     "data": {
      "image/png": "[encoded data removed]",
      "text/plain": [
       "<Figure size 800x600 with 1 Axes>"
      ]
     },
     "metadata": {},
     "output_type": "display_data"
    },
    {
     "data": {
      "image/png": "[encoded data removed]",
      "text/plain": [
       "<Figure size 800x600 with 1 Axes>"
      ]
     },
     "metadata": {},
     "output_type": "display_data"
    },
    {
     "data": {
      "image/png": "[encoded data removed]",
      "text/plain": [
       "<Figure size 800x600 with 1 Axes>"
      ]
     },
     "metadata": {},
     "output_type": "display_data"
    },
    {
     "data": {
      "image/png": "[encoded data removed]",
      "text/plain": [
       "<Figure size 800x600 with 1 Axes>"
      ]
     },
     "metadata": {},
     "output_type": "display_data"
    },
    {
     "data": {
      "image/png": "[encoded data removed]",
      "text/plain": [
       "<Figure size 800x600 with 1 Axes>"
      ]
     },
     "metadata": {},
     "output_type": "display_data"
    },
    {
     "data": {
      "image/png": "[encoded data removed]",
      "text/plain": [
       "<Figure size 800x600 with 1 Axes>"
      ]
     },
     "metadata": {},
     "output_type": "display_data"
    },
    {
     "data": {
      "image/png": "[encoded data removed]",
      "text/plain": [
       "<Figure size 800x600 with 1 Axes>"
      ]
     },
     "metadata": {},
     "output_type": "display_data"
    },
    {
     "data": {
      "image/png": "[encoded data removed]",
      "text/plain": [
       "<Figure size 800x600 with 1 Axes>"
      ]
     },
     "metadata": {},
     "output_type": "display_data"
    },
    {
     "data": {
      "image/png": "[encoded data removed]",
      "text/plain": [
       "<Figure size 800x600 with 1 Axes>"
      ]
     },
     "metadata": {},
     "output_type": "display_data"
    },
    {
     "data": {
      "image/png": "[encoded data removed]",
      "text/plain": [
       "<Figure size 800x600 with 1 Axes>"
      ]
     },
     "metadata": {},
     "output_type": "display_data"
    },
    {
     "data": {
      "image/png": "[encoded data removed]",
      "text/plain": [
       "<Figure size 800x600 with 1 Axes>"
      ]
     },
     "metadata": {},
     "output_type": "display_data"
    }
   ],
   "source": [
    "for column in df.columns:\n",
    "    plt.figure(figsize=(8, 6))\n",
    "    sns.boxplot(x=df[column], color='lightgreen')\n",
    "    plt.title(f'Boxplot for {column}')\n",
    "    plt.xlabel(column)\n",
    "    plt.show()"
   ]
  },
  {
   "cell_type": "markdown",
   "id": "a02aceda-9b03-40d7-9663-9d7890a57e50",
   "metadata": {},
   "source": [
    "***Comprehensive Profile Report***"
   ]
  },
  {
   "cell_type": "markdown",
   "id": "6ff45e83-f194-4d19-869e-f1b9e5d35f0a",
   "metadata": {},
   "source": [
    "Create an in-depth exploratory data analysis"
   ]
  },
  {
   "cell_type": "code",
   "execution_count": 62,
   "id": "f70cfcc2-2ba8-4150-a2a6-ba591163114f",
   "metadata": {},
   "outputs": [],
   "source": [
    "#from ydata_profiling import ProfileReport"
   ]
  },
  {
   "cell_type": "code",
   "execution_count": 63,
   "id": "68a3a0ef-5a58-4e60-8ba9-63c6d5bc58fc",
   "metadata": {},
   "outputs": [],
   "source": [
    "#report=ProfileReport(df,explorative=True)\n",
    "#report"
   ]
  },
  {
   "cell_type": "markdown",
   "id": "cc5ac5b4-ee70-4781-b437-3d610800365c",
   "metadata": {},
   "source": [
    "***Scaling Features Using MinMaxScaler***"
   ]
  },
  {
   "cell_type": "markdown",
   "id": "cb9ccc1f-8887-448b-b041-095007535b62",
   "metadata": {},
   "source": [
    "Ensure that all features are on a similar scale"
   ]
  },
  {
   "cell_type": "code",
   "execution_count": 66,
   "id": "e3eb5105-6568-4b50-97ae-5b04e6a8c108",
   "metadata": {},
   "outputs": [],
   "source": [
    "from sklearn.preprocessing import MinMaxScaler\n",
    "mm=MinMaxScaler()"
   ]
  },
  {
   "cell_type": "code",
   "execution_count": 67,
   "id": "e3e71574-c8a2-48d5-8eaa-0bbfe5ed7cf3",
   "metadata": {},
   "outputs": [],
   "source": [
    "for i in a:\n",
    "    df[i]=mm.fit_transform(df[[i]])"
   ]
  },
  {
   "cell_type": "code",
   "execution_count": 68,
   "id": "8f9fd5af-d7e2-47f9-887c-47716a0bfab6",
   "metadata": {},
   "outputs": [],
   "source": [
    "#df"
   ]
  },
  {
   "cell_type": "markdown",
   "id": "ae1e5607-ec68-4ecb-892c-981d401ccc3c",
   "metadata": {},
   "source": [
    "***Finding Skewness***"
   ]
  },
  {
   "cell_type": "markdown",
   "id": "c2e678d5-b6a1-43c3-b60d-ff0378e42324",
   "metadata": {},
   "source": [
    "Identify the asymmetry in the distribution of each feature."
   ]
  },
  {
   "cell_type": "code",
   "execution_count": 71,
   "id": "965efabf-4f5f-4c58-b69d-d524bc0c5db5",
   "metadata": {},
   "outputs": [],
   "source": [
    "from scipy.stats import skew"
   ]
  },
  {
   "cell_type": "code",
   "execution_count": 72,
   "id": "5f0e04d1-f0d9-408a-a729-afe9bab288db",
   "metadata": {},
   "outputs": [
    {
     "name": "stdout",
     "output_type": "stream",
     "text": [
      "aluminium 1.1450326777882558\n",
      "**************************************************\n",
      "ammonia 0.02679945666688144\n",
      "**************************************************\n",
      "arsenic 0.9341796035586233\n",
      "**************************************************\n",
      "barium 0.6608328488839407\n",
      "**************************************************\n",
      "cadmium 0.47813665451782855\n",
      "**************************************************\n",
      "chloramine 0.8879559376096744\n",
      "**************************************************\n",
      "chromium 1.0279947018384699\n",
      "**************************************************\n",
      "copper 0.2535104815780691\n",
      "**************************************************\n",
      "flouride -0.03972586744667744\n",
      "**************************************************\n",
      "bacteria 0.5543134679607795\n",
      "**************************************************\n",
      "viruses 0.42448718290696913\n",
      "**************************************************\n",
      "lead -0.06058952937903919\n",
      "**************************************************\n",
      "nitrates -0.04205195736744439\n",
      "**************************************************\n",
      "nitrites -0.4983800230156545\n",
      "**************************************************\n",
      "mercury -0.08171080430974616\n",
      "**************************************************\n",
      "perchlorate 0.9375912198391428\n",
      "**************************************************\n",
      "radium 0.5482876986885472\n",
      "**************************************************\n",
      "selenium 0.010492795422255348\n",
      "**************************************************\n",
      "silver 1.029295782617209\n",
      "**************************************************\n",
      "uranium -0.027034910968794304\n",
      "**************************************************\n",
      "is_safe 2.4282266541742197\n",
      "**************************************************\n"
     ]
    }
   ],
   "source": [
    "for i in df:\n",
    "    print(i,skew(df[i]))\n",
    "    print(\"*\"*50)"
   ]
  },
  {
   "cell_type": "markdown",
   "id": "227c324e-387b-44c5-b044-a165dccad5a3",
   "metadata": {},
   "source": [
    "***Finding Correlation Between Columns***"
   ]
  },
  {
   "cell_type": "code",
   "execution_count": 74,
   "id": "6b36b1d7-a39f-4c11-994c-8582867a61c6",
   "metadata": {},
   "outputs": [
    {
     "data": {
      "text/html": [
       "<div>\n",
       "<style scoped>\n",
       "    .dataframe tbody tr th:only-of-type {\n",
       "        vertical-align: middle;\n",
       "    }\n",
       "\n",
       "    .dataframe tbody tr th {\n",
       "        vertical-align: top;\n",
       "    }\n",
       "\n",
       "    .dataframe thead th {\n",
       "        text-align: right;\n",
       "    }\n",
       "</style>\n",
       "<table border=\"1\" class=\"dataframe\">\n",
       "  <thead>\n",
       "    <tr style=\"text-align: right;\">\n",
       "      <th></th>\n",
       "      <th>is_safe</th>\n",
       "    </tr>\n",
       "  </thead>\n",
       "  <tbody>\n",
       "    <tr>\n",
       "      <th>aluminium</th>\n",
       "      <td>0.402181</td>\n",
       "    </tr>\n",
       "    <tr>\n",
       "      <th>ammonia</th>\n",
       "      <td>-0.022919</td>\n",
       "    </tr>\n",
       "    <tr>\n",
       "      <th>arsenic</th>\n",
       "      <td>-0.165439</td>\n",
       "    </tr>\n",
       "    <tr>\n",
       "      <th>barium</th>\n",
       "      <td>0.090858</td>\n",
       "    </tr>\n",
       "    <tr>\n",
       "      <th>cadmium</th>\n",
       "      <td>-0.256034</td>\n",
       "    </tr>\n",
       "    <tr>\n",
       "      <th>chloramine</th>\n",
       "      <td>0.186704</td>\n",
       "    </tr>\n",
       "    <tr>\n",
       "      <th>chromium</th>\n",
       "      <td>0.182306</td>\n",
       "    </tr>\n",
       "    <tr>\n",
       "      <th>copper</th>\n",
       "      <td>0.029498</td>\n",
       "    </tr>\n",
       "    <tr>\n",
       "      <th>flouride</th>\n",
       "      <td>0.006550</td>\n",
       "    </tr>\n",
       "    <tr>\n",
       "      <th>bacteria</th>\n",
       "      <td>-0.022077</td>\n",
       "    </tr>\n",
       "    <tr>\n",
       "      <th>viruses</th>\n",
       "      <td>-0.097040</td>\n",
       "    </tr>\n",
       "    <tr>\n",
       "      <th>lead</th>\n",
       "      <td>-0.009970</td>\n",
       "    </tr>\n",
       "    <tr>\n",
       "      <th>nitrates</th>\n",
       "      <td>-0.072100</td>\n",
       "    </tr>\n",
       "    <tr>\n",
       "      <th>nitrites</th>\n",
       "      <td>0.046991</td>\n",
       "    </tr>\n",
       "    <tr>\n",
       "      <th>mercury</th>\n",
       "      <td>-0.036817</td>\n",
       "    </tr>\n",
       "    <tr>\n",
       "      <th>perchlorate</th>\n",
       "      <td>0.075735</td>\n",
       "    </tr>\n",
       "    <tr>\n",
       "      <th>radium</th>\n",
       "      <td>0.064743</td>\n",
       "    </tr>\n",
       "    <tr>\n",
       "      <th>selenium</th>\n",
       "      <td>-0.030923</td>\n",
       "    </tr>\n",
       "    <tr>\n",
       "      <th>silver</th>\n",
       "      <td>0.102813</td>\n",
       "    </tr>\n",
       "    <tr>\n",
       "      <th>uranium</th>\n",
       "      <td>-0.075619</td>\n",
       "    </tr>\n",
       "    <tr>\n",
       "      <th>is_safe</th>\n",
       "      <td>1.000000</td>\n",
       "    </tr>\n",
       "  </tbody>\n",
       "</table>\n",
       "</div>"
      ],
      "text/plain": [
       "              is_safe\n",
       "aluminium    0.402181\n",
       "ammonia     -0.022919\n",
       "arsenic     -0.165439\n",
       "barium       0.090858\n",
       "cadmium     -0.256034\n",
       "chloramine   0.186704\n",
       "chromium     0.182306\n",
       "copper       0.029498\n",
       "flouride     0.006550\n",
       "bacteria    -0.022077\n",
       "viruses     -0.097040\n",
       "lead        -0.009970\n",
       "nitrates    -0.072100\n",
       "nitrites     0.046991\n",
       "mercury     -0.036817\n",
       "perchlorate  0.075735\n",
       "radium       0.064743\n",
       "selenium    -0.030923\n",
       "silver       0.102813\n",
       "uranium     -0.075619\n",
       "is_safe      1.000000"
      ]
     },
     "execution_count": 74,
     "metadata": {},
     "output_type": "execute_result"
    }
   ],
   "source": [
    "df.corr().tail(1).T"
   ]
  },
  {
   "cell_type": "markdown",
   "id": "b4454266-90f1-40e4-bf5f-ebf6f891767b",
   "metadata": {},
   "source": [
    "***Visualizing Correlations***"
   ]
  },
  {
   "cell_type": "markdown",
   "id": "a47f7e39-8a0b-4d0d-aa48-cca1dba04b01",
   "metadata": {},
   "source": [
    "Identifying any strong correlations that might be present.\n",
    "Using a color gradient to indicate the strength of the correlations."
   ]
  },
  {
   "cell_type": "code",
   "execution_count": 77,
   "id": "5ed134af-b022-4bad-a90f-5c3590d77348",
   "metadata": {},
   "outputs": [
    {
     "data": {
      "image/png": "[encoded data removed]",
      "text/plain": [
       "<Figure size 640x480 with 2 Axes>"
      ]
     },
     "metadata": {},
     "output_type": "display_data"
    }
   ],
   "source": [
    "sns.heatmap(df.corr().tail(1), cmap='coolwarm'); \n",
    "plt.show()"
   ]
  },
  {
   "cell_type": "markdown",
   "id": "f9d8ba10-4eec-4ce0-b305-5824a4640a53",
   "metadata": {},
   "source": [
    "Separates the dataset into the input features and the target variable, preparing it for model training."
   ]
  },
  {
   "cell_type": "code",
   "execution_count": 79,
   "id": "b3c4cb33-a14d-4c66-8b54-5a1ca1897cc2",
   "metadata": {},
   "outputs": [],
   "source": [
    "x=df.drop('is_safe',axis=1)\n",
    "y=df['is_safe']"
   ]
  },
  {
   "cell_type": "code",
   "execution_count": 80,
   "id": "ea516ff6-8042-474f-b4f8-3537083acdc7",
   "metadata": {},
   "outputs": [],
   "source": [
    "#x"
   ]
  },
  {
   "cell_type": "code",
   "execution_count": 81,
   "id": "68b14cab-4d1a-41c5-b3b2-2dd8387cdb3b",
   "metadata": {},
   "outputs": [],
   "source": [
    "#y"
   ]
  },
  {
   "cell_type": "markdown",
   "id": "8b891d41-9688-4c74-ba62-37610681c12d",
   "metadata": {},
   "source": [
    "***Spliting train and test data***"
   ]
  },
  {
   "cell_type": "markdown",
   "id": "2a3eb213-58dc-4865-86fb-267abe5a388f",
   "metadata": {},
   "source": [
    "splits the dataset into training and testing subsets"
   ]
  },
  {
   "cell_type": "code",
   "execution_count": 84,
   "id": "28834623-3bd1-4c01-88aa-6dbd13f0ef1a",
   "metadata": {},
   "outputs": [],
   "source": [
    "x_train, x_test, y_train, y_test = train_test_split(x,y, test_size=0.3, random_state=30)"
   ]
  },
  {
   "cell_type": "markdown",
   "id": "a1cc0fbc-dcdb-416e-97a4-bda0973da02b",
   "metadata": {},
   "source": [
    "***Training the model***"
   ]
  },
  {
   "cell_type": "markdown",
   "id": "e0144635-ca7a-4a1e-beaa-e65c81601ebd",
   "metadata": {},
   "source": [
    "***Decision tree visualization***"
   ]
  },
  {
   "cell_type": "markdown",
   "id": "afc58173-f265-444c-93d1-172190d3f0eb",
   "metadata": {},
   "source": [
    "A model that uses a tree-like structure of decisions to classify data.\n",
    "splits data into branches based on feature values"
   ]
  },
  {
   "cell_type": "code",
   "execution_count": 88,
   "id": "754c27c3-21ae-4d44-a982-05b0cfe55883",
   "metadata": {},
   "outputs": [],
   "source": [
    "DT=DecisionTreeClassifier()    #Initializing"
   ]
  },
  {
   "cell_type": "code",
   "execution_count": 89,
   "id": "33d81bb7-b857-42cb-8c95-85bd04908c27",
   "metadata": {},
   "outputs": [],
   "source": [
    "DT_model=DT.fit(x_train,y_train)   #Fitting"
   ]
  },
  {
   "cell_type": "code",
   "execution_count": 90,
   "id": "e7af211b-99d5-4139-9af5-c956454d791c",
   "metadata": {},
   "outputs": [
    {
     "name": "stdout",
     "output_type": "stream",
     "text": [
      "Confusion Matrix: \n",
      " [[4961    0]\n",
      " [   0  636]]\n",
      "************************************************************\n",
      "Accuracy:------>\n",
      " 1.0\n",
      "************************************************************\n",
      "Classification report :\n",
      "               precision    recall  f1-score   support\n",
      "\n",
      "         0.0       1.00      1.00      1.00      4961\n",
      "         1.0       1.00      1.00      1.00       636\n",
      "\n",
      "    accuracy                           1.00      5597\n",
      "   macro avg       1.00      1.00      1.00      5597\n",
      "weighted avg       1.00      1.00      1.00      5597\n",
      "\n"
     ]
    }
   ],
   "source": [
    "y_pred_train=DT_model.predict(x_train) #training\n",
    "\n",
    "cnf_matrix = confusion_matrix(y_pred_train, y_train)\n",
    "print(\"Confusion Matrix: \\n\", cnf_matrix)\n",
    "print(\"*\"*60)\n",
    "\n",
    "\n",
    "accuracy=accuracy_score(y_train,y_pred_train)\n",
    "print(\"Accuracy:------>\\n\",accuracy)\n",
    "print(\"*\"*60)\n",
    "\n",
    "clf_report  = classification_report(y_pred_train, y_train)\n",
    "print(\"Classification report :\\n\",clf_report)"
   ]
  },
  {
   "cell_type": "code",
   "execution_count": 91,
   "id": "a3612104-c3d8-442b-afd9-58f32231da74",
   "metadata": {},
   "outputs": [
    {
     "name": "stdout",
     "output_type": "stream",
     "text": [
      "Confusion Matrix: \n",
      " [[2056   62]\n",
      " [  67  214]]\n",
      "************************************************************\n",
      "Accuracy:----->\n",
      " 0.9462275948311797\n",
      "************************************************************\n",
      "Classification report :\n",
      "               precision    recall  f1-score   support\n",
      "\n",
      "         0.0       0.97      0.97      0.97      2118\n",
      "         1.0       0.78      0.76      0.77       281\n",
      "\n",
      "    accuracy                           0.95      2399\n",
      "   macro avg       0.87      0.87      0.87      2399\n",
      "weighted avg       0.95      0.95      0.95      2399\n",
      "\n"
     ]
    }
   ],
   "source": [
    "y_pred = DT_model.predict(x_test)\n",
    "\n",
    "cnf_matrix = confusion_matrix(y_pred, y_test)\n",
    "print(\"Confusion Matrix: \\n\", cnf_matrix)\n",
    "print(\"*\"*60)\n",
    "\n",
    "\n",
    "accuracy=accuracy_score(y_test,y_pred)    #testing\n",
    "print(\"Accuracy:----->\\n\",accuracy)\n",
    "print(\"*\"*60)\n",
    "\n",
    "clf_report  = classification_report(y_pred, y_test)\n",
    "print(\"Classification report :\\n\",clf_report)"
   ]
  },
  {
   "cell_type": "code",
   "execution_count": null,
   "id": "27e81629-fe30-43bd-a239-f16b562408b7",
   "metadata": {},
   "outputs": [],
   "source": []
  },
  {
   "cell_type": "markdown",
   "id": "9251a38e-793c-47a6-964c-d3b38b3062fc",
   "metadata": {},
   "source": [
    "***Logistic Regression***"
   ]
  },
  {
   "cell_type": "markdown",
   "id": "07f4785f-9b37-4abb-b9d0-b2360ac37726",
   "metadata": {},
   "source": [
    "A statistical model for binary classification that estimates the probability of an outcome."
   ]
  },
  {
   "cell_type": "code",
   "execution_count": 94,
   "id": "afb6d2d7-00c6-480e-9ee9-9d8b8bb7f5fa",
   "metadata": {},
   "outputs": [],
   "source": [
    "lr=LogisticRegression()"
   ]
  },
  {
   "cell_type": "code",
   "execution_count": 95,
   "id": "a59dba11-e6d0-44cb-b528-61bf2af03682",
   "metadata": {},
   "outputs": [
    {
     "data": {
      "text/html": [
       "<style>#sk-container-id-1 {\n",
       "  /* Definition of color scheme common for light and dark mode */\n",
       "  --sklearn-color-text: black;\n",
       "  --sklearn-color-line: gray;\n",
       "  /* Definition of color scheme for unfitted estimators */\n",
       "  --sklearn-color-unfitted-level-0: #fff5e6;\n",
       "  --sklearn-color-unfitted-level-1: #f6e4d2;\n",
       "  --sklearn-color-unfitted-level-2: #ffe0b3;\n",
       "  --sklearn-color-unfitted-level-3: chocolate;\n",
       "  /* Definition of color scheme for fitted estimators */\n",
       "  --sklearn-color-fitted-level-0: #f0f8ff;\n",
       "  --sklearn-color-fitted-level-1: #d4ebff;\n",
       "  --sklearn-color-fitted-level-2: #b3dbfd;\n",
       "  --sklearn-color-fitted-level-3: cornflowerblue;\n",
       "\n",
       "  /* Specific color for light theme */\n",
       "  --sklearn-color-text-on-default-background: var(--sg-text-color, var(--theme-code-foreground, var(--jp-content-font-color1, black)));\n",
       "  --sklearn-color-background: var(--sg-background-color, var(--theme-background, var(--jp-layout-color0, white)));\n",
       "  --sklearn-color-border-box: var(--sg-text-color, var(--theme-code-foreground, var(--jp-content-font-color1, black)));\n",
       "  --sklearn-color-icon: #696969;\n",
       "\n",
       "  @media (prefers-color-scheme: dark) {\n",
       "    /* Redefinition of color scheme for dark theme */\n",
       "    --sklearn-color-text-on-default-background: var(--sg-text-color, var(--theme-code-foreground, var(--jp-content-font-color1, white)));\n",
       "    --sklearn-color-background: var(--sg-background-color, var(--theme-background, var(--jp-layout-color0, #111)));\n",
       "    --sklearn-color-border-box: var(--sg-text-color, var(--theme-code-foreground, var(--jp-content-font-color1, white)));\n",
       "    --sklearn-color-icon: #878787;\n",
       "  }\n",
       "}\n",
       "\n",
       "#sk-container-id-1 {\n",
       "  color: var(--sklearn-color-text);\n",
       "}\n",
       "\n",
       "#sk-container-id-1 pre {\n",
       "  padding: 0;\n",
       "}\n",
       "\n",
       "#sk-container-id-1 input.sk-hidden--visually {\n",
       "  border: 0;\n",
       "  clip: rect(1px 1px 1px 1px);\n",
       "  clip: rect(1px, 1px, 1px, 1px);\n",
       "  height: 1px;\n",
       "  margin: -1px;\n",
       "  overflow: hidden;\n",
       "  padding: 0;\n",
       "  position: absolute;\n",
       "  width: 1px;\n",
       "}\n",
       "\n",
       "#sk-container-id-1 div.sk-dashed-wrapped {\n",
       "  border: 1px dashed var(--sklearn-color-line);\n",
       "  margin: 0 0.4em 0.5em 0.4em;\n",
       "  box-sizing: border-box;\n",
       "  padding-bottom: 0.4em;\n",
       "  background-color: var(--sklearn-color-background);\n",
       "}\n",
       "\n",
       "#sk-container-id-1 div.sk-container {\n",
       "  /* jupyter's `normalize.less` sets `[hidden] { display: none; }`\n",
       "     but bootstrap.min.css set `[hidden] { display: none !important; }`\n",
       "     so we also need the `!important` here to be able to override the\n",
       "     default hidden behavior on the sphinx rendered scikit-learn.org.\n",
       "     See: https://github.com/scikit-learn/scikit-learn/issues/21755 */\n",
       "  display: inline-block !important;\n",
       "  position: relative;\n",
       "}\n",
       "\n",
       "#sk-container-id-1 div.sk-text-repr-fallback {\n",
       "  display: none;\n",
       "}\n",
       "\n",
       "div.sk-parallel-item,\n",
       "div.sk-serial,\n",
       "div.sk-item {\n",
       "  /* draw centered vertical line to link estimators */\n",
       "  background-image: linear-gradient(var(--sklearn-color-text-on-default-background), var(--sklearn-color-text-on-default-background));\n",
       "  background-size: 2px 100%;\n",
       "  background-repeat: no-repeat;\n",
       "  background-position: center center;\n",
       "}\n",
       "\n",
       "/* Parallel-specific style estimator block */\n",
       "\n",
       "#sk-container-id-1 div.sk-parallel-item::after {\n",
       "  content: \"\";\n",
       "  width: 100%;\n",
       "  border-bottom: 2px solid var(--sklearn-color-text-on-default-background);\n",
       "  flex-grow: 1;\n",
       "}\n",
       "\n",
       "#sk-container-id-1 div.sk-parallel {\n",
       "  display: flex;\n",
       "  align-items: stretch;\n",
       "  justify-content: center;\n",
       "  background-color: var(--sklearn-color-background);\n",
       "  position: relative;\n",
       "}\n",
       "\n",
       "#sk-container-id-1 div.sk-parallel-item {\n",
       "  display: flex;\n",
       "  flex-direction: column;\n",
       "}\n",
       "\n",
       "#sk-container-id-1 div.sk-parallel-item:first-child::after {\n",
       "  align-self: flex-end;\n",
       "  width: 50%;\n",
       "}\n",
       "\n",
       "#sk-container-id-1 div.sk-parallel-item:last-child::after {\n",
       "  align-self: flex-start;\n",
       "  width: 50%;\n",
       "}\n",
       "\n",
       "#sk-container-id-1 div.sk-parallel-item:only-child::after {\n",
       "  width: 0;\n",
       "}\n",
       "\n",
       "/* Serial-specific style estimator block */\n",
       "\n",
       "#sk-container-id-1 div.sk-serial {\n",
       "  display: flex;\n",
       "  flex-direction: column;\n",
       "  align-items: center;\n",
       "  background-color: var(--sklearn-color-background);\n",
       "  padding-right: 1em;\n",
       "  padding-left: 1em;\n",
       "}\n",
       "\n",
       "\n",
       "/* Toggleable style: style used for estimator/Pipeline/ColumnTransformer box that is\n",
       "clickable and can be expanded/collapsed.\n",
       "- Pipeline and ColumnTransformer use this feature and define the default style\n",
       "- Estimators will overwrite some part of the style using the `sk-estimator` class\n",
       "*/\n",
       "\n",
       "/* Pipeline and ColumnTransformer style (default) */\n",
       "\n",
       "#sk-container-id-1 div.sk-toggleable {\n",
       "  /* Default theme specific background. It is overwritten whether we have a\n",
       "  specific estimator or a Pipeline/ColumnTransformer */\n",
       "  background-color: var(--sklearn-color-background);\n",
       "}\n",
       "\n",
       "/* Toggleable label */\n",
       "#sk-container-id-1 label.sk-toggleable__label {\n",
       "  cursor: pointer;\n",
       "  display: block;\n",
       "  width: 100%;\n",
       "  margin-bottom: 0;\n",
       "  padding: 0.5em;\n",
       "  box-sizing: border-box;\n",
       "  text-align: center;\n",
       "}\n",
       "\n",
       "#sk-container-id-1 label.sk-toggleable__label-arrow:before {\n",
       "  /* Arrow on the left of the label */\n",
       "  content: \"▸\";\n",
       "  float: left;\n",
       "  margin-right: 0.25em;\n",
       "  color: var(--sklearn-color-icon);\n",
       "}\n",
       "\n",
       "#sk-container-id-1 label.sk-toggleable__label-arrow:hover:before {\n",
       "  color: var(--sklearn-color-text);\n",
       "}\n",
       "\n",
       "/* Toggleable content - dropdown */\n",
       "\n",
       "#sk-container-id-1 div.sk-toggleable__content {\n",
       "  max-height: 0;\n",
       "  max-width: 0;\n",
       "  overflow: hidden;\n",
       "  text-align: left;\n",
       "  /* unfitted */\n",
       "  background-color: var(--sklearn-color-unfitted-level-0);\n",
       "}\n",
       "\n",
       "#sk-container-id-1 div.sk-toggleable__content.fitted {\n",
       "  /* fitted */\n",
       "  background-color: var(--sklearn-color-fitted-level-0);\n",
       "}\n",
       "\n",
       "#sk-container-id-1 div.sk-toggleable__content pre {\n",
       "  margin: 0.2em;\n",
       "  border-radius: 0.25em;\n",
       "  color: var(--sklearn-color-text);\n",
       "  /* unfitted */\n",
       "  background-color: var(--sklearn-color-unfitted-level-0);\n",
       "}\n",
       "\n",
       "#sk-container-id-1 div.sk-toggleable__content.fitted pre {\n",
       "  /* unfitted */\n",
       "  background-color: var(--sklearn-color-fitted-level-0);\n",
       "}\n",
       "\n",
       "#sk-container-id-1 input.sk-toggleable__control:checked~div.sk-toggleable__content {\n",
       "  /* Expand drop-down */\n",
       "  max-height: 200px;\n",
       "  max-width: 100%;\n",
       "  overflow: auto;\n",
       "}\n",
       "\n",
       "#sk-container-id-1 input.sk-toggleable__control:checked~label.sk-toggleable__label-arrow:before {\n",
       "  content: \"▾\";\n",
       "}\n",
       "\n",
       "/* Pipeline/ColumnTransformer-specific style */\n",
       "\n",
       "#sk-container-id-1 div.sk-label input.sk-toggleable__control:checked~label.sk-toggleable__label {\n",
       "  color: var(--sklearn-color-text);\n",
       "  background-color: var(--sklearn-color-unfitted-level-2);\n",
       "}\n",
       "\n",
       "#sk-container-id-1 div.sk-label.fitted input.sk-toggleable__control:checked~label.sk-toggleable__label {\n",
       "  background-color: var(--sklearn-color-fitted-level-2);\n",
       "}\n",
       "\n",
       "/* Estimator-specific style */\n",
       "\n",
       "/* Colorize estimator box */\n",
       "#sk-container-id-1 div.sk-estimator input.sk-toggleable__control:checked~label.sk-toggleable__label {\n",
       "  /* unfitted */\n",
       "  background-color: var(--sklearn-color-unfitted-level-2);\n",
       "}\n",
       "\n",
       "#sk-container-id-1 div.sk-estimator.fitted input.sk-toggleable__control:checked~label.sk-toggleable__label {\n",
       "  /* fitted */\n",
       "  background-color: var(--sklearn-color-fitted-level-2);\n",
       "}\n",
       "\n",
       "#sk-container-id-1 div.sk-label label.sk-toggleable__label,\n",
       "#sk-container-id-1 div.sk-label label {\n",
       "  /* The background is the default theme color */\n",
       "  color: var(--sklearn-color-text-on-default-background);\n",
       "}\n",
       "\n",
       "/* On hover, darken the color of the background */\n",
       "#sk-container-id-1 div.sk-label:hover label.sk-toggleable__label {\n",
       "  color: var(--sklearn-color-text);\n",
       "  background-color: var(--sklearn-color-unfitted-level-2);\n",
       "}\n",
       "\n",
       "/* Label box, darken color on hover, fitted */\n",
       "#sk-container-id-1 div.sk-label.fitted:hover label.sk-toggleable__label.fitted {\n",
       "  color: var(--sklearn-color-text);\n",
       "  background-color: var(--sklearn-color-fitted-level-2);\n",
       "}\n",
       "\n",
       "/* Estimator label */\n",
       "\n",
       "#sk-container-id-1 div.sk-label label {\n",
       "  font-family: monospace;\n",
       "  font-weight: bold;\n",
       "  display: inline-block;\n",
       "  line-height: 1.2em;\n",
       "}\n",
       "\n",
       "#sk-container-id-1 div.sk-label-container {\n",
       "  text-align: center;\n",
       "}\n",
       "\n",
       "/* Estimator-specific */\n",
       "#sk-container-id-1 div.sk-estimator {\n",
       "  font-family: monospace;\n",
       "  border: 1px dotted var(--sklearn-color-border-box);\n",
       "  border-radius: 0.25em;\n",
       "  box-sizing: border-box;\n",
       "  margin-bottom: 0.5em;\n",
       "  /* unfitted */\n",
       "  background-color: var(--sklearn-color-unfitted-level-0);\n",
       "}\n",
       "\n",
       "#sk-container-id-1 div.sk-estimator.fitted {\n",
       "  /* fitted */\n",
       "  background-color: var(--sklearn-color-fitted-level-0);\n",
       "}\n",
       "\n",
       "/* on hover */\n",
       "#sk-container-id-1 div.sk-estimator:hover {\n",
       "  /* unfitted */\n",
       "  background-color: var(--sklearn-color-unfitted-level-2);\n",
       "}\n",
       "\n",
       "#sk-container-id-1 div.sk-estimator.fitted:hover {\n",
       "  /* fitted */\n",
       "  background-color: var(--sklearn-color-fitted-level-2);\n",
       "}\n",
       "\n",
       "/* Specification for estimator info (e.g. \"i\" and \"?\") */\n",
       "\n",
       "/* Common style for \"i\" and \"?\" */\n",
       "\n",
       ".sk-estimator-doc-link,\n",
       "a:link.sk-estimator-doc-link,\n",
       "a:visited.sk-estimator-doc-link {\n",
       "  float: right;\n",
       "  font-size: smaller;\n",
       "  line-height: 1em;\n",
       "  font-family: monospace;\n",
       "  background-color: var(--sklearn-color-background);\n",
       "  border-radius: 1em;\n",
       "  height: 1em;\n",
       "  width: 1em;\n",
       "  text-decoration: none !important;\n",
       "  margin-left: 1ex;\n",
       "  /* unfitted */\n",
       "  border: var(--sklearn-color-unfitted-level-1) 1pt solid;\n",
       "  color: var(--sklearn-color-unfitted-level-1);\n",
       "}\n",
       "\n",
       ".sk-estimator-doc-link.fitted,\n",
       "a:link.sk-estimator-doc-link.fitted,\n",
       "a:visited.sk-estimator-doc-link.fitted {\n",
       "  /* fitted */\n",
       "  border: var(--sklearn-color-fitted-level-1) 1pt solid;\n",
       "  color: var(--sklearn-color-fitted-level-1);\n",
       "}\n",
       "\n",
       "/* On hover */\n",
       "div.sk-estimator:hover .sk-estimator-doc-link:hover,\n",
       ".sk-estimator-doc-link:hover,\n",
       "div.sk-label-container:hover .sk-estimator-doc-link:hover,\n",
       ".sk-estimator-doc-link:hover {\n",
       "  /* unfitted */\n",
       "  background-color: var(--sklearn-color-unfitted-level-3);\n",
       "  color: var(--sklearn-color-background);\n",
       "  text-decoration: none;\n",
       "}\n",
       "\n",
       "div.sk-estimator.fitted:hover .sk-estimator-doc-link.fitted:hover,\n",
       ".sk-estimator-doc-link.fitted:hover,\n",
       "div.sk-label-container:hover .sk-estimator-doc-link.fitted:hover,\n",
       ".sk-estimator-doc-link.fitted:hover {\n",
       "  /* fitted */\n",
       "  background-color: var(--sklearn-color-fitted-level-3);\n",
       "  color: var(--sklearn-color-background);\n",
       "  text-decoration: none;\n",
       "}\n",
       "\n",
       "/* Span, style for the box shown on hovering the info icon */\n",
       ".sk-estimator-doc-link span {\n",
       "  display: none;\n",
       "  z-index: 9999;\n",
       "  position: relative;\n",
       "  font-weight: normal;\n",
       "  right: .2ex;\n",
       "  padding: .5ex;\n",
       "  margin: .5ex;\n",
       "  width: min-content;\n",
       "  min-width: 20ex;\n",
       "  max-width: 50ex;\n",
       "  color: var(--sklearn-color-text);\n",
       "  box-shadow: 2pt 2pt 4pt #999;\n",
       "  /* unfitted */\n",
       "  background: var(--sklearn-color-unfitted-level-0);\n",
       "  border: .5pt solid var(--sklearn-color-unfitted-level-3);\n",
       "}\n",
       "\n",
       ".sk-estimator-doc-link.fitted span {\n",
       "  /* fitted */\n",
       "  background: var(--sklearn-color-fitted-level-0);\n",
       "  border: var(--sklearn-color-fitted-level-3);\n",
       "}\n",
       "\n",
       ".sk-estimator-doc-link:hover span {\n",
       "  display: block;\n",
       "}\n",
       "\n",
       "/* \"?\"-specific style due to the `<a>` HTML tag */\n",
       "\n",
       "#sk-container-id-1 a.estimator_doc_link {\n",
       "  float: right;\n",
       "  font-size: 1rem;\n",
       "  line-height: 1em;\n",
       "  font-family: monospace;\n",
       "  background-color: var(--sklearn-color-background);\n",
       "  border-radius: 1rem;\n",
       "  height: 1rem;\n",
       "  width: 1rem;\n",
       "  text-decoration: none;\n",
       "  /* unfitted */\n",
       "  color: var(--sklearn-color-unfitted-level-1);\n",
       "  border: var(--sklearn-color-unfitted-level-1) 1pt solid;\n",
       "}\n",
       "\n",
       "#sk-container-id-1 a.estimator_doc_link.fitted {\n",
       "  /* fitted */\n",
       "  border: var(--sklearn-color-fitted-level-1) 1pt solid;\n",
       "  color: var(--sklearn-color-fitted-level-1);\n",
       "}\n",
       "\n",
       "/* On hover */\n",
       "#sk-container-id-1 a.estimator_doc_link:hover {\n",
       "  /* unfitted */\n",
       "  background-color: var(--sklearn-color-unfitted-level-3);\n",
       "  color: var(--sklearn-color-background);\n",
       "  text-decoration: none;\n",
       "}\n",
       "\n",
       "#sk-container-id-1 a.estimator_doc_link.fitted:hover {\n",
       "  /* fitted */\n",
       "  background-color: var(--sklearn-color-fitted-level-3);\n",
       "}\n",
       "</style><div id=\"sk-container-id-1\" class=\"sk-top-container\"><div class=\"sk-text-repr-fallback\"><pre>LogisticRegression()</pre><b>In a Jupyter environment, please rerun this cell to show the HTML representation or trust the notebook. <br />On GitHub, the HTML representation is unable to render, please try loading this page with nbviewer.org.</b></div><div class=\"sk-container\" hidden><div class=\"sk-item\"><div class=\"sk-estimator fitted sk-toggleable\"><input class=\"sk-toggleable__control sk-hidden--visually\" id=\"sk-estimator-id-1\" type=\"checkbox\" checked><label for=\"sk-estimator-id-1\" class=\"sk-toggleable__label fitted sk-toggleable__label-arrow fitted\">&nbsp;&nbsp;LogisticRegression<a class=\"sk-estimator-doc-link fitted\" rel=\"noreferrer\" target=\"_blank\" href=\"https://scikit-learn.org/1.4/modules/generated/sklearn.linear_model.LogisticRegression.html\">?<span>Documentation for LogisticRegression</span></a><span class=\"sk-estimator-doc-link fitted\">i<span>Fitted</span></span></label><div class=\"sk-toggleable__content fitted\"><pre>LogisticRegression()</pre></div> </div></div></div></div>"
      ],
      "text/plain": [
       "LogisticRegression()"
      ]
     },
     "execution_count": 95,
     "metadata": {},
     "output_type": "execute_result"
    }
   ],
   "source": [
    "lr_model=lr.fit(x_train,y_train)\n",
    "lr_model"
   ]
  },
  {
   "cell_type": "code",
   "execution_count": 96,
   "id": "d314661f-1136-4faa-b9a8-a16e01c38996",
   "metadata": {},
   "outputs": [
    {
     "name": "stdout",
     "output_type": "stream",
     "text": [
      "Confusion Matrix: \n",
      " [[4876  314]\n",
      " [  85  322]]\n",
      "************************************************************\n",
      "Accuracy :  0.9287118098981597\n",
      "************************************************************\n",
      "Classification report :\n",
      "               precision    recall  f1-score   support\n",
      "\n",
      "         0.0       0.98      0.94      0.96      5190\n",
      "         1.0       0.51      0.79      0.62       407\n",
      "\n",
      "    accuracy                           0.93      5597\n",
      "   macro avg       0.74      0.87      0.79      5597\n",
      "weighted avg       0.95      0.93      0.94      5597\n",
      "\n"
     ]
    }
   ],
   "source": [
    "# Training Accuracy\n",
    "y_pred_train= lr_model.predict(x_train)\n",
    "\n",
    "cnf_matrix = confusion_matrix(y_pred_train, y_train)\n",
    "print(\"Confusion Matrix: \\n\", cnf_matrix)\n",
    "print(\"*\"*60)\n",
    "\n",
    "accuracy = accuracy_score(y_pred_train, y_train)\n",
    "print(\"Accuracy : \",accuracy)\n",
    "print(\"*\"*60)\n",
    "\n",
    "clf_report  = classification_report(y_pred_train, y_train)\n",
    "print(\"Classification report :\\n\",clf_report)"
   ]
  },
  {
   "cell_type": "code",
   "execution_count": 97,
   "id": "41c94b09-492e-4136-9ea2-e72882693b33",
   "metadata": {},
   "outputs": [
    {
     "name": "stdout",
     "output_type": "stream",
     "text": [
      "Confusion Matrix: \n",
      " [[2088  139]\n",
      " [  35  137]]\n",
      "************************************************************\n",
      "Accuracy :  0.9274697790746145\n",
      "************************************************************\n",
      "Classification report :\n",
      "               precision    recall  f1-score   support\n",
      "\n",
      "         0.0       0.98      0.94      0.96      2227\n",
      "         1.0       0.50      0.80      0.61       172\n",
      "\n",
      "    accuracy                           0.93      2399\n",
      "   macro avg       0.74      0.87      0.79      2399\n",
      "weighted avg       0.95      0.93      0.94      2399\n",
      "\n"
     ]
    }
   ],
   "source": [
    "# Testing Accuracy\n",
    "y_pred = lr_model.predict(x_test)\n",
    "\n",
    "cnf_matrix = confusion_matrix(y_pred, y_test)\n",
    "print(\"Confusion Matrix: \\n\", cnf_matrix)\n",
    "print(\"*\"*60)\n",
    "\n",
    "accuracy = accuracy_score(y_pred, y_test)\n",
    "print(\"Accuracy : \",accuracy)\n",
    "print(\"*\"*60)\n",
    "\n",
    "clf_report  = classification_report(y_pred, y_test)\n",
    "print(\"Classification report :\\n\",clf_report)"
   ]
  },
  {
   "cell_type": "code",
   "execution_count": null,
   "id": "d93c8734-fc5f-47c6-9caa-89120283c06a",
   "metadata": {},
   "outputs": [],
   "source": []
  },
  {
   "cell_type": "markdown",
   "id": "c1e213ae-014c-414b-82f5-77b29abe7c2f",
   "metadata": {},
   "source": [
    "***KNeighborsClassifier***"
   ]
  },
  {
   "cell_type": "markdown",
   "id": "44f3575d-025c-4539-9a58-315565606c5f",
   "metadata": {},
   "source": [
    "A classifier that predicts the class of a data point based on the majority class among its k-nearest neighbors."
   ]
  },
  {
   "cell_type": "code",
   "execution_count": 100,
   "id": "c546afc9-2e03-4933-8d2e-1c58a2699674",
   "metadata": {},
   "outputs": [],
   "source": [
    "from sklearn.neighbors import KNeighborsClassifier"
   ]
  },
  {
   "cell_type": "code",
   "execution_count": 101,
   "id": "5b0cec12-22c5-403e-b8b8-f2c271a86fbc",
   "metadata": {},
   "outputs": [],
   "source": [
    "knnc=KNeighborsClassifier()"
   ]
  },
  {
   "cell_type": "code",
   "execution_count": 102,
   "id": "2f2b3412-635f-4c15-bc4a-4ea534c7e7f1",
   "metadata": {},
   "outputs": [
    {
     "data": {
      "text/html": [
       "<style>#sk-container-id-2 {\n",
       "  /* Definition of color scheme common for light and dark mode */\n",
       "  --sklearn-color-text: black;\n",
       "  --sklearn-color-line: gray;\n",
       "  /* Definition of color scheme for unfitted estimators */\n",
       "  --sklearn-color-unfitted-level-0: #fff5e6;\n",
       "  --sklearn-color-unfitted-level-1: #f6e4d2;\n",
       "  --sklearn-color-unfitted-level-2: #ffe0b3;\n",
       "  --sklearn-color-unfitted-level-3: chocolate;\n",
       "  /* Definition of color scheme for fitted estimators */\n",
       "  --sklearn-color-fitted-level-0: #f0f8ff;\n",
       "  --sklearn-color-fitted-level-1: #d4ebff;\n",
       "  --sklearn-color-fitted-level-2: #b3dbfd;\n",
       "  --sklearn-color-fitted-level-3: cornflowerblue;\n",
       "\n",
       "  /* Specific color for light theme */\n",
       "  --sklearn-color-text-on-default-background: var(--sg-text-color, var(--theme-code-foreground, var(--jp-content-font-color1, black)));\n",
       "  --sklearn-color-background: var(--sg-background-color, var(--theme-background, var(--jp-layout-color0, white)));\n",
       "  --sklearn-color-border-box: var(--sg-text-color, var(--theme-code-foreground, var(--jp-content-font-color1, black)));\n",
       "  --sklearn-color-icon: #696969;\n",
       "\n",
       "  @media (prefers-color-scheme: dark) {\n",
       "    /* Redefinition of color scheme for dark theme */\n",
       "    --sklearn-color-text-on-default-background: var(--sg-text-color, var(--theme-code-foreground, var(--jp-content-font-color1, white)));\n",
       "    --sklearn-color-background: var(--sg-background-color, var(--theme-background, var(--jp-layout-color0, #111)));\n",
       "    --sklearn-color-border-box: var(--sg-text-color, var(--theme-code-foreground, var(--jp-content-font-color1, white)));\n",
       "    --sklearn-color-icon: #878787;\n",
       "  }\n",
       "}\n",
       "\n",
       "#sk-container-id-2 {\n",
       "  color: var(--sklearn-color-text);\n",
       "}\n",
       "\n",
       "#sk-container-id-2 pre {\n",
       "  padding: 0;\n",
       "}\n",
       "\n",
       "#sk-container-id-2 input.sk-hidden--visually {\n",
       "  border: 0;\n",
       "  clip: rect(1px 1px 1px 1px);\n",
       "  clip: rect(1px, 1px, 1px, 1px);\n",
       "  height: 1px;\n",
       "  margin: -1px;\n",
       "  overflow: hidden;\n",
       "  padding: 0;\n",
       "  position: absolute;\n",
       "  width: 1px;\n",
       "}\n",
       "\n",
       "#sk-container-id-2 div.sk-dashed-wrapped {\n",
       "  border: 1px dashed var(--sklearn-color-line);\n",
       "  margin: 0 0.4em 0.5em 0.4em;\n",
       "  box-sizing: border-box;\n",
       "  padding-bottom: 0.4em;\n",
       "  background-color: var(--sklearn-color-background);\n",
       "}\n",
       "\n",
       "#sk-container-id-2 div.sk-container {\n",
       "  /* jupyter's `normalize.less` sets `[hidden] { display: none; }`\n",
       "     but bootstrap.min.css set `[hidden] { display: none !important; }`\n",
       "     so we also need the `!important` here to be able to override the\n",
       "     default hidden behavior on the sphinx rendered scikit-learn.org.\n",
       "     See: https://github.com/scikit-learn/scikit-learn/issues/21755 */\n",
       "  display: inline-block !important;\n",
       "  position: relative;\n",
       "}\n",
       "\n",
       "#sk-container-id-2 div.sk-text-repr-fallback {\n",
       "  display: none;\n",
       "}\n",
       "\n",
       "div.sk-parallel-item,\n",
       "div.sk-serial,\n",
       "div.sk-item {\n",
       "  /* draw centered vertical line to link estimators */\n",
       "  background-image: linear-gradient(var(--sklearn-color-text-on-default-background), var(--sklearn-color-text-on-default-background));\n",
       "  background-size: 2px 100%;\n",
       "  background-repeat: no-repeat;\n",
       "  background-position: center center;\n",
       "}\n",
       "\n",
       "/* Parallel-specific style estimator block */\n",
       "\n",
       "#sk-container-id-2 div.sk-parallel-item::after {\n",
       "  content: \"\";\n",
       "  width: 100%;\n",
       "  border-bottom: 2px solid var(--sklearn-color-text-on-default-background);\n",
       "  flex-grow: 1;\n",
       "}\n",
       "\n",
       "#sk-container-id-2 div.sk-parallel {\n",
       "  display: flex;\n",
       "  align-items: stretch;\n",
       "  justify-content: center;\n",
       "  background-color: var(--sklearn-color-background);\n",
       "  position: relative;\n",
       "}\n",
       "\n",
       "#sk-container-id-2 div.sk-parallel-item {\n",
       "  display: flex;\n",
       "  flex-direction: column;\n",
       "}\n",
       "\n",
       "#sk-container-id-2 div.sk-parallel-item:first-child::after {\n",
       "  align-self: flex-end;\n",
       "  width: 50%;\n",
       "}\n",
       "\n",
       "#sk-container-id-2 div.sk-parallel-item:last-child::after {\n",
       "  align-self: flex-start;\n",
       "  width: 50%;\n",
       "}\n",
       "\n",
       "#sk-container-id-2 div.sk-parallel-item:only-child::after {\n",
       "  width: 0;\n",
       "}\n",
       "\n",
       "/* Serial-specific style estimator block */\n",
       "\n",
       "#sk-container-id-2 div.sk-serial {\n",
       "  display: flex;\n",
       "  flex-direction: column;\n",
       "  align-items: center;\n",
       "  background-color: var(--sklearn-color-background);\n",
       "  padding-right: 1em;\n",
       "  padding-left: 1em;\n",
       "}\n",
       "\n",
       "\n",
       "/* Toggleable style: style used for estimator/Pipeline/ColumnTransformer box that is\n",
       "clickable and can be expanded/collapsed.\n",
       "- Pipeline and ColumnTransformer use this feature and define the default style\n",
       "- Estimators will overwrite some part of the style using the `sk-estimator` class\n",
       "*/\n",
       "\n",
       "/* Pipeline and ColumnTransformer style (default) */\n",
       "\n",
       "#sk-container-id-2 div.sk-toggleable {\n",
       "  /* Default theme specific background. It is overwritten whether we have a\n",
       "  specific estimator or a Pipeline/ColumnTransformer */\n",
       "  background-color: var(--sklearn-color-background);\n",
       "}\n",
       "\n",
       "/* Toggleable label */\n",
       "#sk-container-id-2 label.sk-toggleable__label {\n",
       "  cursor: pointer;\n",
       "  display: block;\n",
       "  width: 100%;\n",
       "  margin-bottom: 0;\n",
       "  padding: 0.5em;\n",
       "  box-sizing: border-box;\n",
       "  text-align: center;\n",
       "}\n",
       "\n",
       "#sk-container-id-2 label.sk-toggleable__label-arrow:before {\n",
       "  /* Arrow on the left of the label */\n",
       "  content: \"▸\";\n",
       "  float: left;\n",
       "  margin-right: 0.25em;\n",
       "  color: var(--sklearn-color-icon);\n",
       "}\n",
       "\n",
       "#sk-container-id-2 label.sk-toggleable__label-arrow:hover:before {\n",
       "  color: var(--sklearn-color-text);\n",
       "}\n",
       "\n",
       "/* Toggleable content - dropdown */\n",
       "\n",
       "#sk-container-id-2 div.sk-toggleable__content {\n",
       "  max-height: 0;\n",
       "  max-width: 0;\n",
       "  overflow: hidden;\n",
       "  text-align: left;\n",
       "  /* unfitted */\n",
       "  background-color: var(--sklearn-color-unfitted-level-0);\n",
       "}\n",
       "\n",
       "#sk-container-id-2 div.sk-toggleable__content.fitted {\n",
       "  /* fitted */\n",
       "  background-color: var(--sklearn-color-fitted-level-0);\n",
       "}\n",
       "\n",
       "#sk-container-id-2 div.sk-toggleable__content pre {\n",
       "  margin: 0.2em;\n",
       "  border-radius: 0.25em;\n",
       "  color: var(--sklearn-color-text);\n",
       "  /* unfitted */\n",
       "  background-color: var(--sklearn-color-unfitted-level-0);\n",
       "}\n",
       "\n",
       "#sk-container-id-2 div.sk-toggleable__content.fitted pre {\n",
       "  /* unfitted */\n",
       "  background-color: var(--sklearn-color-fitted-level-0);\n",
       "}\n",
       "\n",
       "#sk-container-id-2 input.sk-toggleable__control:checked~div.sk-toggleable__content {\n",
       "  /* Expand drop-down */\n",
       "  max-height: 200px;\n",
       "  max-width: 100%;\n",
       "  overflow: auto;\n",
       "}\n",
       "\n",
       "#sk-container-id-2 input.sk-toggleable__control:checked~label.sk-toggleable__label-arrow:before {\n",
       "  content: \"▾\";\n",
       "}\n",
       "\n",
       "/* Pipeline/ColumnTransformer-specific style */\n",
       "\n",
       "#sk-container-id-2 div.sk-label input.sk-toggleable__control:checked~label.sk-toggleable__label {\n",
       "  color: var(--sklearn-color-text);\n",
       "  background-color: var(--sklearn-color-unfitted-level-2);\n",
       "}\n",
       "\n",
       "#sk-container-id-2 div.sk-label.fitted input.sk-toggleable__control:checked~label.sk-toggleable__label {\n",
       "  background-color: var(--sklearn-color-fitted-level-2);\n",
       "}\n",
       "\n",
       "/* Estimator-specific style */\n",
       "\n",
       "/* Colorize estimator box */\n",
       "#sk-container-id-2 div.sk-estimator input.sk-toggleable__control:checked~label.sk-toggleable__label {\n",
       "  /* unfitted */\n",
       "  background-color: var(--sklearn-color-unfitted-level-2);\n",
       "}\n",
       "\n",
       "#sk-container-id-2 div.sk-estimator.fitted input.sk-toggleable__control:checked~label.sk-toggleable__label {\n",
       "  /* fitted */\n",
       "  background-color: var(--sklearn-color-fitted-level-2);\n",
       "}\n",
       "\n",
       "#sk-container-id-2 div.sk-label label.sk-toggleable__label,\n",
       "#sk-container-id-2 div.sk-label label {\n",
       "  /* The background is the default theme color */\n",
       "  color: var(--sklearn-color-text-on-default-background);\n",
       "}\n",
       "\n",
       "/* On hover, darken the color of the background */\n",
       "#sk-container-id-2 div.sk-label:hover label.sk-toggleable__label {\n",
       "  color: var(--sklearn-color-text);\n",
       "  background-color: var(--sklearn-color-unfitted-level-2);\n",
       "}\n",
       "\n",
       "/* Label box, darken color on hover, fitted */\n",
       "#sk-container-id-2 div.sk-label.fitted:hover label.sk-toggleable__label.fitted {\n",
       "  color: var(--sklearn-color-text);\n",
       "  background-color: var(--sklearn-color-fitted-level-2);\n",
       "}\n",
       "\n",
       "/* Estimator label */\n",
       "\n",
       "#sk-container-id-2 div.sk-label label {\n",
       "  font-family: monospace;\n",
       "  font-weight: bold;\n",
       "  display: inline-block;\n",
       "  line-height: 1.2em;\n",
       "}\n",
       "\n",
       "#sk-container-id-2 div.sk-label-container {\n",
       "  text-align: center;\n",
       "}\n",
       "\n",
       "/* Estimator-specific */\n",
       "#sk-container-id-2 div.sk-estimator {\n",
       "  font-family: monospace;\n",
       "  border: 1px dotted var(--sklearn-color-border-box);\n",
       "  border-radius: 0.25em;\n",
       "  box-sizing: border-box;\n",
       "  margin-bottom: 0.5em;\n",
       "  /* unfitted */\n",
       "  background-color: var(--sklearn-color-unfitted-level-0);\n",
       "}\n",
       "\n",
       "#sk-container-id-2 div.sk-estimator.fitted {\n",
       "  /* fitted */\n",
       "  background-color: var(--sklearn-color-fitted-level-0);\n",
       "}\n",
       "\n",
       "/* on hover */\n",
       "#sk-container-id-2 div.sk-estimator:hover {\n",
       "  /* unfitted */\n",
       "  background-color: var(--sklearn-color-unfitted-level-2);\n",
       "}\n",
       "\n",
       "#sk-container-id-2 div.sk-estimator.fitted:hover {\n",
       "  /* fitted */\n",
       "  background-color: var(--sklearn-color-fitted-level-2);\n",
       "}\n",
       "\n",
       "/* Specification for estimator info (e.g. \"i\" and \"?\") */\n",
       "\n",
       "/* Common style for \"i\" and \"?\" */\n",
       "\n",
       ".sk-estimator-doc-link,\n",
       "a:link.sk-estimator-doc-link,\n",
       "a:visited.sk-estimator-doc-link {\n",
       "  float: right;\n",
       "  font-size: smaller;\n",
       "  line-height: 1em;\n",
       "  font-family: monospace;\n",
       "  background-color: var(--sklearn-color-background);\n",
       "  border-radius: 1em;\n",
       "  height: 1em;\n",
       "  width: 1em;\n",
       "  text-decoration: none !important;\n",
       "  margin-left: 1ex;\n",
       "  /* unfitted */\n",
       "  border: var(--sklearn-color-unfitted-level-1) 1pt solid;\n",
       "  color: var(--sklearn-color-unfitted-level-1);\n",
       "}\n",
       "\n",
       ".sk-estimator-doc-link.fitted,\n",
       "a:link.sk-estimator-doc-link.fitted,\n",
       "a:visited.sk-estimator-doc-link.fitted {\n",
       "  /* fitted */\n",
       "  border: var(--sklearn-color-fitted-level-1) 1pt solid;\n",
       "  color: var(--sklearn-color-fitted-level-1);\n",
       "}\n",
       "\n",
       "/* On hover */\n",
       "div.sk-estimator:hover .sk-estimator-doc-link:hover,\n",
       ".sk-estimator-doc-link:hover,\n",
       "div.sk-label-container:hover .sk-estimator-doc-link:hover,\n",
       ".sk-estimator-doc-link:hover {\n",
       "  /* unfitted */\n",
       "  background-color: var(--sklearn-color-unfitted-level-3);\n",
       "  color: var(--sklearn-color-background);\n",
       "  text-decoration: none;\n",
       "}\n",
       "\n",
       "div.sk-estimator.fitted:hover .sk-estimator-doc-link.fitted:hover,\n",
       ".sk-estimator-doc-link.fitted:hover,\n",
       "div.sk-label-container:hover .sk-estimator-doc-link.fitted:hover,\n",
       ".sk-estimator-doc-link.fitted:hover {\n",
       "  /* fitted */\n",
       "  background-color: var(--sklearn-color-fitted-level-3);\n",
       "  color: var(--sklearn-color-background);\n",
       "  text-decoration: none;\n",
       "}\n",
       "\n",
       "/* Span, style for the box shown on hovering the info icon */\n",
       ".sk-estimator-doc-link span {\n",
       "  display: none;\n",
       "  z-index: 9999;\n",
       "  position: relative;\n",
       "  font-weight: normal;\n",
       "  right: .2ex;\n",
       "  padding: .5ex;\n",
       "  margin: .5ex;\n",
       "  width: min-content;\n",
       "  min-width: 20ex;\n",
       "  max-width: 50ex;\n",
       "  color: var(--sklearn-color-text);\n",
       "  box-shadow: 2pt 2pt 4pt #999;\n",
       "  /* unfitted */\n",
       "  background: var(--sklearn-color-unfitted-level-0);\n",
       "  border: .5pt solid var(--sklearn-color-unfitted-level-3);\n",
       "}\n",
       "\n",
       ".sk-estimator-doc-link.fitted span {\n",
       "  /* fitted */\n",
       "  background: var(--sklearn-color-fitted-level-0);\n",
       "  border: var(--sklearn-color-fitted-level-3);\n",
       "}\n",
       "\n",
       ".sk-estimator-doc-link:hover span {\n",
       "  display: block;\n",
       "}\n",
       "\n",
       "/* \"?\"-specific style due to the `<a>` HTML tag */\n",
       "\n",
       "#sk-container-id-2 a.estimator_doc_link {\n",
       "  float: right;\n",
       "  font-size: 1rem;\n",
       "  line-height: 1em;\n",
       "  font-family: monospace;\n",
       "  background-color: var(--sklearn-color-background);\n",
       "  border-radius: 1rem;\n",
       "  height: 1rem;\n",
       "  width: 1rem;\n",
       "  text-decoration: none;\n",
       "  /* unfitted */\n",
       "  color: var(--sklearn-color-unfitted-level-1);\n",
       "  border: var(--sklearn-color-unfitted-level-1) 1pt solid;\n",
       "}\n",
       "\n",
       "#sk-container-id-2 a.estimator_doc_link.fitted {\n",
       "  /* fitted */\n",
       "  border: var(--sklearn-color-fitted-level-1) 1pt solid;\n",
       "  color: var(--sklearn-color-fitted-level-1);\n",
       "}\n",
       "\n",
       "/* On hover */\n",
       "#sk-container-id-2 a.estimator_doc_link:hover {\n",
       "  /* unfitted */\n",
       "  background-color: var(--sklearn-color-unfitted-level-3);\n",
       "  color: var(--sklearn-color-background);\n",
       "  text-decoration: none;\n",
       "}\n",
       "\n",
       "#sk-container-id-2 a.estimator_doc_link.fitted:hover {\n",
       "  /* fitted */\n",
       "  background-color: var(--sklearn-color-fitted-level-3);\n",
       "}\n",
       "</style><div id=\"sk-container-id-2\" class=\"sk-top-container\"><div class=\"sk-text-repr-fallback\"><pre>KNeighborsClassifier()</pre><b>In a Jupyter environment, please rerun this cell to show the HTML representation or trust the notebook. <br />On GitHub, the HTML representation is unable to render, please try loading this page with nbviewer.org.</b></div><div class=\"sk-container\" hidden><div class=\"sk-item\"><div class=\"sk-estimator fitted sk-toggleable\"><input class=\"sk-toggleable__control sk-hidden--visually\" id=\"sk-estimator-id-2\" type=\"checkbox\" checked><label for=\"sk-estimator-id-2\" class=\"sk-toggleable__label fitted sk-toggleable__label-arrow fitted\">&nbsp;&nbsp;KNeighborsClassifier<a class=\"sk-estimator-doc-link fitted\" rel=\"noreferrer\" target=\"_blank\" href=\"https://scikit-learn.org/1.4/modules/generated/sklearn.neighbors.KNeighborsClassifier.html\">?<span>Documentation for KNeighborsClassifier</span></a><span class=\"sk-estimator-doc-link fitted\">i<span>Fitted</span></span></label><div class=\"sk-toggleable__content fitted\"><pre>KNeighborsClassifier()</pre></div> </div></div></div></div>"
      ],
      "text/plain": [
       "KNeighborsClassifier()"
      ]
     },
     "execution_count": 102,
     "metadata": {},
     "output_type": "execute_result"
    }
   ],
   "source": [
    "knnc_model=knnc.fit(x_train,y_train)\n",
    "knnc_model"
   ]
  },
  {
   "cell_type": "code",
   "execution_count": 103,
   "id": "0be97f20-c4a5-46ca-bf15-5baf9ee082c1",
   "metadata": {},
   "outputs": [
    {
     "name": "stdout",
     "output_type": "stream",
     "text": [
      "Confusion Matrix: \n",
      " [[4903  204]\n",
      " [  58  432]]\n",
      "************************************************************\n",
      "Accuracy :  0.953189208504556\n",
      "************************************************************\n",
      "Classification report :\n",
      "               precision    recall  f1-score   support\n",
      "\n",
      "         0.0       0.99      0.96      0.97      5107\n",
      "         1.0       0.68      0.88      0.77       490\n",
      "\n",
      "    accuracy                           0.95      5597\n",
      "   macro avg       0.83      0.92      0.87      5597\n",
      "weighted avg       0.96      0.95      0.96      5597\n",
      "\n"
     ]
    }
   ],
   "source": [
    "# Training Accuracy\n",
    "y_pred_train= knnc_model.predict(x_train)\n",
    "\n",
    "cnf_matrix = confusion_matrix(y_pred_train, y_train)\n",
    "print(\"Confusion Matrix: \\n\", cnf_matrix)\n",
    "print(\"*\"*60)\n",
    "\n",
    "accuracy = accuracy_score(y_pred_train, y_train)\n",
    "print(\"Accuracy : \",accuracy)\n",
    "print(\"*\"*60)\n",
    "\n",
    "clf_report  = classification_report(y_pred_train, y_train)\n",
    "print(\"Classification report :\\n\",clf_report)"
   ]
  },
  {
   "cell_type": "code",
   "execution_count": null,
   "id": "0a5e0a86-2488-4654-9bf3-d5cbc0558256",
   "metadata": {},
   "outputs": [],
   "source": [
    "# Testing Accuracy\n",
    "y_pred = knnc_model.predict(x_test)\n",
    "\n",
    "cnf_matrix = confusion_matrix(y_pred, y_test)\n",
    "print(\"Confusion Matrix: \\n\", cnf_matrix)\n",
    "print(\"*\"*60)\n",
    "\n",
    "accuracy = accuracy_score(y_pred, y_test)\n",
    "print(\"Accuracy : \",accuracy)\n",
    "print(\"*\"*60)\n",
    "\n",
    "clf_report  = classification_report(y_pred, y_test)\n",
    "print(\"Classification report :\\n\",clf_report)"
   ]
  },
  {
   "cell_type": "code",
   "execution_count": null,
   "id": "2e1a198a-b14e-44eb-9737-30a686cbe26d",
   "metadata": {},
   "outputs": [],
   "source": []
  },
  {
   "cell_type": "markdown",
   "id": "454df044-339c-4493-9e9c-3e30a02e5812",
   "metadata": {},
   "source": [
    "***RandomForest Classifier***\n"
   ]
  },
  {
   "cell_type": "markdown",
   "id": "efaa3e6b-d9ed-4df5-a4db-e7c409a60b65",
   "metadata": {},
   "source": [
    "An ensemble method that combines multiple decision trees to improve accuracy and reduce overfitting."
   ]
  },
  {
   "cell_type": "code",
   "execution_count": null,
   "id": "8554d267-719a-4450-a845-219303852490",
   "metadata": {},
   "outputs": [],
   "source": [
    "from sklearn.ensemble import RandomForestClassifier"
   ]
  },
  {
   "cell_type": "code",
   "execution_count": null,
   "id": "36c8fde6-fe13-4470-b502-e426b5a832cd",
   "metadata": {},
   "outputs": [],
   "source": [
    "Rfc= RandomForestClassifier(n_estimators=100, random_state=42)"
   ]
  },
  {
   "cell_type": "code",
   "execution_count": null,
   "id": "bc5e5352-4025-45d1-bf66-9a2f6491a2da",
   "metadata": {},
   "outputs": [],
   "source": [
    "Rfc_model=Rfc.fit(x_train,y_train)\n",
    "Rfc_model"
   ]
  },
  {
   "cell_type": "code",
   "execution_count": null,
   "id": "551825ed-f8c6-4933-93a6-1a6b38e836ff",
   "metadata": {},
   "outputs": [],
   "source": [
    "y_pred_train=Rfc_model.predict(x_train)      #training\n",
    "\n",
    "cnf_matrix = confusion_matrix(y_pred_train, y_train)\n",
    "print(\"Confusion Matrix: \\n\", cnf_matrix)\n",
    "print(\"*\"*60)\n",
    "\n",
    "accuracy=accuracy_score(y_train,y_pred_train)\n",
    "print(\"Accuracy:------>\\n\",accuracy)\n",
    "print(\"*\"*60)\n",
    "\n",
    "clf_report  = classification_report(y_pred_train, y_train)\n",
    "print(\"Classification report :\\n\",clf_report)"
   ]
  },
  {
   "cell_type": "code",
   "execution_count": null,
   "id": "5fd17c4c-7a5e-4347-9507-7c0fd2d7e01e",
   "metadata": {},
   "outputs": [],
   "source": [
    "y_pred = Rfc_model.predict(x_test)\n",
    "\n",
    "cnf_matrix = confusion_matrix(y_pred, y_test)\n",
    "print(\"Confusion Matrix: \\n\", cnf_matrix)\n",
    "print(\"*\"*60)\n",
    "\n",
    "accuracy=accuracy_score(y_test,y_pred)    #testing\n",
    "print(\"Accuracy:----->\\n\",accuracy)\n",
    "print(\"*\"*60)\n",
    "\n",
    "clf_report  = classification_report(y_pred, y_test)\n",
    "print(\"Classification report :\\n\",clf_report)"
   ]
  },
  {
   "cell_type": "code",
   "execution_count": null,
   "id": "cf10204c-8344-4414-b666-35fa96bd2624",
   "metadata": {},
   "outputs": [],
   "source": []
  },
  {
   "cell_type": "markdown",
   "id": "31db08ff-3b68-4cf6-a7ce-1b35126473c4",
   "metadata": {},
   "source": [
    "***XGBoost***"
   ]
  },
  {
   "cell_type": "markdown",
   "id": "f272d46f-9eda-4b19-9952-fbda054d2c1d",
   "metadata": {},
   "source": [
    "A scalable gradient boosting algorithm that builds an ensemble of trees to optimize performance."
   ]
  },
  {
   "cell_type": "code",
   "execution_count": null,
   "id": "c5801eda-be23-45b6-ad72-dcdc0609a9f8",
   "metadata": {},
   "outputs": [],
   "source": [
    "import xgboost as xgb\n",
    "xgb_model = xgb.XGBClassifier(random_state=1)\n",
    "xgb_model.fit(x_train, y_train)"
   ]
  },
  {
   "cell_type": "code",
   "execution_count": null,
   "id": "ad7d41bc-384b-4883-8558-509a65711ba8",
   "metadata": {},
   "outputs": [],
   "source": [
    "# Training Accuracy\n",
    "y_pred_train= xgb_model.predict(x_train)\n",
    "\n",
    "cnf_matrix = confusion_matrix(y_pred_train, y_train)\n",
    "print(\"Confusion Matrix: \\n\", cnf_matrix)\n",
    "print(\"*\"*60)\n",
    "\n",
    "accuracy = accuracy_score(y_pred_train, y_train)\n",
    "print(\"Accuracy : \",accuracy)\n",
    "print(\"*\"*60)\n",
    "\n",
    "clf_report  = classification_report(y_pred_train, y_train)\n",
    "print(\"Classification report :\\n\",clf_report)"
   ]
  },
  {
   "cell_type": "code",
   "execution_count": null,
   "id": "7c551111-55c1-4f57-afa3-0131492a26a9",
   "metadata": {},
   "outputs": [],
   "source": [
    "# Testing Accuracy\n",
    "y_pred = xgb_model.predict(x_test)\n",
    "\n",
    "cnf_matrix = confusion_matrix(y_pred, y_test)\n",
    "print(\"Confusion Matrix: \\n\", cnf_matrix)\n",
    "print(\"*\"*60)\n",
    "\n",
    "accuracy = accuracy_score(y_pred, y_test)\n",
    "print(\"Accuracy : \",accuracy)\n",
    "print(\"*\"*60)\n",
    "\n",
    "clf_report  = classification_report(y_pred, y_test)\n",
    "print(\"Classification report :\\n\",clf_report)"
   ]
  },
  {
   "cell_type": "code",
   "execution_count": null,
   "id": "9c9fbebb-3509-46be-86fd-3bb06389ad0a",
   "metadata": {},
   "outputs": [],
   "source": []
  },
  {
   "cell_type": "markdown",
   "id": "1a6387e2-14f5-4bf9-8006-0e13451e0710",
   "metadata": {},
   "source": [
    "***Conclusion***"
   ]
  },
  {
   "cell_type": "markdown",
   "id": "d55ab921-206a-4444-863b-1023d310c324",
   "metadata": {},
   "source": [
    "With the model trained and tested, we achieved an impressive accuracy of 97%. \n",
    "The project successfully built and evaluated a machine learning model to predict water safety based on chemical and properties. This solution can help in identifying unsafe water samples efficiently.\n",
    "The model had a substantial amount of data to train on. Consequently, it resulted in a high accuracy rate, demonstrating the model's effectiveness."
   ]
  },
  {
   "cell_type": "code",
   "execution_count": null,
   "id": "0a8eb2bc-1799-4780-a032-5935e0cf47c1",
   "metadata": {},
   "outputs": [],
   "source": []
  }
 ],
 "metadata": {
  "kernelspec": {
   "display_name": "Python 3 (ipykernel)",
   "language": "python",
   "name": "python3"
  },
  "language_info": {
   "codemirror_mode": {
    "name": "ipython",
    "version": 3
   },
   "file_extension": ".py",
   "mimetype": "text/x-python",
   "name": "python",
   "nbconvert_exporter": "python",
   "pygments_lexer": "ipython3",
   "version": "3.12.4"
  }
 },
 "nbformat": 4,
 "nbformat_minor": 5
}
